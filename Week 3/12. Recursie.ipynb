{
 "cells": [
  {
   "cell_type": "markdown",
   "metadata": {},
   "source": [
    "# Recursieve functies\n",
    "\n",
    "Functies kunnen andere functies aanroepen, inclusief zichzelf. Telkens wanneer een functie wordt aangeroepen, wordt er een nieuwe lokale *frame* gemaakt waarin de variabelen van die functie zitten. De parameters van de functie, zeg maar de input-variabelen, horen daar ook bij. Nadat een functie beëindigd is. Een functie heeft enkel toegang tot haar eigen frame en het global frame, al raden we ten sterkste aan om enkel waarden naar een functie te communiceren via de parameters van die functie.\n",
    "\n",
    "Ook wanneer een functie zichzelf aanroept, worden er aparte frames aangemaakt, voor elke aanroep 1. Als een functie door zichzelf wordt aangeroepen heeft die functie geen toegang tot de frame van de aanroepende functie.\n",
    "\n",
    "We illustreren dit best met een voorbeeld; we gaan een functie maken die volgend probleem oplost: \n",
    "*Bij het oplopen van een trap kan je telkens 1 of 2 treden tegelijk nemen; op hoeveel manieren kan je een trap met n treden oplopen?* Bijvoorbeeld, als we een trap met 5 treden hebben kunnen we die oplopen als volgt: 1-1-1-1-1, 1-1-1-2, 1-1-2-1, 1-2-1-1, 2-1-1-1, 1-2-2, 2-1-2, 2-2-1; op 8 manieren dus. Deze 8 manieren kunnen we opsplitsen in twee groepen:\n",
    "- Beginnend met een kleine stap: 1-1-1-1-1, 1-1-1-2, 1-1-2-1, 1-2-1-1, 1-2-2\n",
    "- Beginnend met een grote stap: 2-1-1-1, 2-1-2, 2-2-1\n",
    "\n",
    "Merk op dat de manieren waarbij we met een kleine stap begonnen, telkens beginnen met 1- en vervolgens met alle manieren om de overige 4 treden op te lopen. Het aantal manieren om een trap van hoogte 5 op te lopen en waarbij we met 1 trede beginnen is dus exac gelijk aan het aantal manieren om een trap van hoogte 4 op te lopen. Idem voor het beginnen met en grote stap: die beginnen allen met 2- gevolgd door een manier om een trap met 3 treden op te lopen. Het aantal manieren om een stap met 5 treden op te lopen is dus exact gelijk aan het aantal manieren om een tral van hoogte 4 op te lopen plus het aantal manieren om een trap van hoogte 3 op te lopen. Als we $M(n)$ gebruiken om het aantal manieren om een trap van hoogte $n$ op te lopen, hebben we dus volgende wiskundige, recursieve formule:\n",
    "\n",
    "$$M(0)=1, M(1)=1, \\forall n>1: M(n)=M(n-1)+M(n-2)$$\n",
    "\n",
    "Dit principe zullen we als volgt in code gieten: \n",
    "- Een functie `manieren(n)` die berekent op hoeveel manieren we een trap met `n` treden kunnen oplopen\n",
    "- Behandel de basisgevallen `n==0` en `n==1`: geef `1` terug.\n",
    "- Anders: geef `manieren(n-1) + manieren(n-2)` terug."
   ]
  },
  {
   "cell_type": "code",
   "execution_count": 13,
   "metadata": {},
   "outputs": [
    {
     "name": "stdout",
     "output_type": "stream",
     "text": [
      "8\n"
     ]
    }
   ],
   "source": [
    "def manieren(n):\n",
    "    if n<2:\n",
    "        return 1\n",
    "    else:\n",
    "        return manieren(n-1)+manieren(n-2)\n",
    "    \n",
    "print(manieren(5))"
   ]
  },
  {
   "cell_type": "markdown",
   "metadata": {},
   "source": [
    "In deze functie roeps `manieren` twee maal zichzelf aan. Bij die aanroep wordt er een nieuwe instantie van de functie gestart met een eigen frame. Dit frame verdwijnt pas nadat de functie is afgelopen. Dus, als we `manieren(5)` aanroepen, an roept die eerst `manieren(4)` aan om de eerste term in de som `manieren(n-1)+manieren(n-2)` te berekenen. `manieren(4)` roept dan weer eerst `manieren(3)` aan, `manieren(3)` roept `manieren(2)` aan en uiteindelijk roept die `manieren(1)` aan. \n",
    "\n",
    "Er is dus tegelijk een oproep `manieren(5)`, `manieren(4)`, ..., `manieren(1)` actief, elk met een eigen frame, met een eigen versie van de parameter (input-variabele) `n`. Dit wordt ook mooi geïllustreerd in [Python Tutor](http://www.pythontutor.com/visualize.html#code=def%20manieren%28n%29%3A%0A%20%20%20%20if%20n%3C2%3A%0A%20%20%20%20%20%20%20%20return%201%0A%20%20%20%20else%3A%0A%20%20%20%20%20%20%20%20return%20manieren%28n-1%29%2Bmanieren%28n-2%29%0A%20%20%20%20%0Aprint%28manieren%285%29%29&cumulative=false&curInstr=14&heapPrimitives=false&mode=display&origin=opt-frontend.js&py=3&rawInputLstJSON=%5B%5D&textReferences=false) :\n",
    "\n",
    "![](manierenFrames.JPG)"
   ]
  },
  {
   "cell_type": "markdown",
   "metadata": {},
   "source": [
    "Wanneer we een recursieve functie schrijven is het erg belangrijk om steeds een basisgeval te voorzien en *eerst* te testen of we in een basisgeval zitten alvorens de recursieve aanroepen te doen. Mocht je dit vergeten zijn, of indien jouw recursieve aanroepen een fout maken bij de parameters, dan zal de functie oneindig recursieve aanroepen blijven doen, en telkens een frame aanmaken. Deze frames komen in het geheugen op een \"stapel\" (*stack*) terecht; als we het basisgeval vergeten, loopt het geheugen voorzien voor deze stapel vol en eindigt het programma. Python heeft standaard een maximale recursie-diepte van 1000, wat wil zeggen dat indien er meer dan 1000 frames op de *stack* staan, Python de uitvoering van het programma stillegt om te vermijden dat de stapel \"over loopt\". Je krijgt dan volgende foutmelding: "
   ]
  },
  {
   "cell_type": "code",
   "execution_count": 14,
   "metadata": {},
   "outputs": [
    {
     "ename": "RecursionError",
     "evalue": "maximum recursion depth exceeded",
     "output_type": "error",
     "traceback": [
      "\u001b[1;31m---------------------------------------------------------------------------\u001b[0m",
      "\u001b[1;31mRecursionError\u001b[0m                            Traceback (most recent call last)",
      "\u001b[1;32m<ipython-input-14-df263bcf7abe>\u001b[0m in \u001b[0;36m<module>\u001b[1;34m\u001b[0m\n\u001b[0;32m      2\u001b[0m     \u001b[1;32mreturn\u001b[0m \u001b[0mmanieren\u001b[0m\u001b[1;33m(\u001b[0m\u001b[0mn\u001b[0m\u001b[1;33m-\u001b[0m\u001b[1;36m1\u001b[0m\u001b[1;33m)\u001b[0m\u001b[1;33m+\u001b[0m\u001b[0mmanieren\u001b[0m\u001b[1;33m(\u001b[0m\u001b[0mn\u001b[0m\u001b[1;33m-\u001b[0m\u001b[1;36m2\u001b[0m\u001b[1;33m)\u001b[0m\u001b[1;33m\u001b[0m\u001b[1;33m\u001b[0m\u001b[0m\n\u001b[0;32m      3\u001b[0m \u001b[1;33m\u001b[0m\u001b[0m\n\u001b[1;32m----> 4\u001b[1;33m \u001b[0mprint\u001b[0m\u001b[1;33m(\u001b[0m\u001b[0mmanieren\u001b[0m\u001b[1;33m(\u001b[0m\u001b[1;36m5\u001b[0m\u001b[1;33m)\u001b[0m\u001b[1;33m)\u001b[0m\u001b[1;33m\u001b[0m\u001b[1;33m\u001b[0m\u001b[0m\n\u001b[0m",
      "\u001b[1;32m<ipython-input-14-df263bcf7abe>\u001b[0m in \u001b[0;36mmanieren\u001b[1;34m(n)\u001b[0m\n\u001b[0;32m      1\u001b[0m \u001b[1;32mdef\u001b[0m \u001b[0mmanieren\u001b[0m\u001b[1;33m(\u001b[0m\u001b[0mn\u001b[0m\u001b[1;33m)\u001b[0m\u001b[1;33m:\u001b[0m\u001b[1;33m\u001b[0m\u001b[1;33m\u001b[0m\u001b[0m\n\u001b[1;32m----> 2\u001b[1;33m     \u001b[1;32mreturn\u001b[0m \u001b[0mmanieren\u001b[0m\u001b[1;33m(\u001b[0m\u001b[0mn\u001b[0m\u001b[1;33m-\u001b[0m\u001b[1;36m1\u001b[0m\u001b[1;33m)\u001b[0m\u001b[1;33m+\u001b[0m\u001b[0mmanieren\u001b[0m\u001b[1;33m(\u001b[0m\u001b[0mn\u001b[0m\u001b[1;33m-\u001b[0m\u001b[1;36m2\u001b[0m\u001b[1;33m)\u001b[0m\u001b[1;33m\u001b[0m\u001b[1;33m\u001b[0m\u001b[0m\n\u001b[0m\u001b[0;32m      3\u001b[0m \u001b[1;33m\u001b[0m\u001b[0m\n\u001b[0;32m      4\u001b[0m \u001b[0mprint\u001b[0m\u001b[1;33m(\u001b[0m\u001b[0mmanieren\u001b[0m\u001b[1;33m(\u001b[0m\u001b[1;36m5\u001b[0m\u001b[1;33m)\u001b[0m\u001b[1;33m)\u001b[0m\u001b[1;33m\u001b[0m\u001b[1;33m\u001b[0m\u001b[0m\n",
      "... last 1 frames repeated, from the frame below ...\n",
      "\u001b[1;32m<ipython-input-14-df263bcf7abe>\u001b[0m in \u001b[0;36mmanieren\u001b[1;34m(n)\u001b[0m\n\u001b[0;32m      1\u001b[0m \u001b[1;32mdef\u001b[0m \u001b[0mmanieren\u001b[0m\u001b[1;33m(\u001b[0m\u001b[0mn\u001b[0m\u001b[1;33m)\u001b[0m\u001b[1;33m:\u001b[0m\u001b[1;33m\u001b[0m\u001b[1;33m\u001b[0m\u001b[0m\n\u001b[1;32m----> 2\u001b[1;33m     \u001b[1;32mreturn\u001b[0m \u001b[0mmanieren\u001b[0m\u001b[1;33m(\u001b[0m\u001b[0mn\u001b[0m\u001b[1;33m-\u001b[0m\u001b[1;36m1\u001b[0m\u001b[1;33m)\u001b[0m\u001b[1;33m+\u001b[0m\u001b[0mmanieren\u001b[0m\u001b[1;33m(\u001b[0m\u001b[0mn\u001b[0m\u001b[1;33m-\u001b[0m\u001b[1;36m2\u001b[0m\u001b[1;33m)\u001b[0m\u001b[1;33m\u001b[0m\u001b[1;33m\u001b[0m\u001b[0m\n\u001b[0m\u001b[0;32m      3\u001b[0m \u001b[1;33m\u001b[0m\u001b[0m\n\u001b[0;32m      4\u001b[0m \u001b[0mprint\u001b[0m\u001b[1;33m(\u001b[0m\u001b[0mmanieren\u001b[0m\u001b[1;33m(\u001b[0m\u001b[1;36m5\u001b[0m\u001b[1;33m)\u001b[0m\u001b[1;33m)\u001b[0m\u001b[1;33m\u001b[0m\u001b[1;33m\u001b[0m\u001b[0m\n",
      "\u001b[1;31mRecursionError\u001b[0m: maximum recursion depth exceeded"
     ]
    }
   ],
   "source": [
    "def manieren(n):\n",
    "    return manieren(n-1)+manieren(n-2)\n",
    "    \n",
    "print(manieren(5))"
   ]
  },
  {
   "cell_type": "markdown",
   "metadata": {},
   "source": [
    "## Voorbeelden: sublijsten\n",
    "\n",
    "Gegeven een lijst `L`, maak een lijst van alle deellijsten van `L`. Dit doen we als volgt:\n",
    "- Als `L==[]`, dan is de lijst van deellijsten gelijk aan `[ [] ]`; enkel de lege lijst is een deellijst van de lege lijst\n",
    "- In het andere geval nemen we 1 element uit `L` weg en krijgen we `Lzondera`. We genereren alle deellijsten van `Lzondera`. Elke deellijst van `Lzondera` is een deellijst van `L` en bovendien is elke deellijst van `Lzondera` waar we `a` aan toevoegen ook een deellijst."
   ]
  },
  {
   "cell_type": "code",
   "execution_count": null,
   "metadata": {},
   "outputs": [],
   "source": [
    "from copy import copy\n",
    "\n",
    "def deelLijsten(L):\n",
    "    if L==[]:\n",
    "        return [ [] ]\n",
    "    else:\n",
    "        a=L[0]\n",
    "        Lzondera=L[1:]\n",
    "        deelLijstenLzondera=deelLijsten(Lzondera)\n",
    "        result=copy(deelLijstenLzondera)\n",
    "        for dl in deelLijstenLzondera:\n",
    "            result.append([a]+dl)\n",
    "        return result\n",
    "\n",
    "L=[1,2,3,4]\n",
    "print(deelLijsten(L))"
   ]
  },
  {
   "cell_type": "markdown",
   "metadata": {},
   "source": [
    "## Divide and Conquer\n",
    "\n",
    "Recursie wordt typisch gebruikt bij *divide-and-conquer* strategieen: een probleem opsplitsen in deelproblemen van hetzelfde type maar met een lagere complexiteit.\n",
    "\n",
    "![.](divideAndConquer.JPG)\n",
    "\n",
    "Divide and conquer = oplossingsstrategie\n",
    "- Complex probleem wordt opgesplitst in deelproblemen\n",
    "- Deelproblemen zijn eenvoudiger\n",
    "- Dit doen we recursief tot basisgeval met triviale oplossing\n",
    "\n",
    "## Voorbeelden Divide-and-Conquer\n",
    "\n",
    "Als we een lesrooster willen opstarten dan kunnen we de theorieles van Inleiding programmeren op maandag uren 1 en 2 zetten, en moeten we alle vakken behalve inleiding programmeren inplannen in alle uren behalve maandag 1 en 2. Of, IP moet op maandag uren 3 en 4 en alle andere vakken in een van de andere slots, etc. Hier splitsen we dus op in volgende deelproblemen:\n",
    "- maak een rooster met IP om maandag 1&2\n",
    "- maak een rooster met IP op maandag 3&4\n",
    "- ...\n",
    "- maak een rooster met IP op vrijdag 7&8\n",
    "\n",
    "Het basisgeval is dat alle vakken correct ingepland zijn.\n",
    "\n",
    "Je wil de kortste route van gebouw G naar jou thuis plannen. Een van de volgende deelproblemen zal de kortste route geven:\n",
    "- verlaat gebouw G langs de achterkant en bereken de kortste route vanaf de achterkant van gebouw G tot bij je thuis,\n",
    "- of: verlaat gebouw G langs de voorkant en bereken de kortste route vanaf de voorkant van gebouw G tot bij je thuis.\n",
    "\n",
    "Het basisgeval is dat je thuis bent; dan is de kortste weg gewoon thuis blijven. Dit basisgeval komt ook wel eens voor bij lessen om 8:30 's morgens.\n",
    "\n",
    "Volgende recursieve functie berekent of je een gegeven bedrag `b` kan betalen met minder dan `n` euromunten (1 cent, 2 cent, 5 cent, 10 cent, 20 cent, 50 cent , 1 euro, 2 euro)."
   ]
  },
  {
   "cell_type": "code",
   "execution_count": null,
   "metadata": {},
   "outputs": [],
   "source": [
    "def betalen(b,n,munten):\n",
    "    \"\"\"\n",
    "    Kan ik een bedrag van b cent betalen met minder dan n munten?\n",
    "    Ik heb de keuze uit munten met bedrag in munten\n",
    "    \"\"\"\n",
    "    if b==0:  # basisgeval: exact bedrag bereikt\n",
    "        return True\n",
    "    elif b<0 or n==0 or len(munten)==0: # basisgeval: geen oplossing gevonden\n",
    "        return False\n",
    "    # algemeen geval\n",
    "    m=munten[0]\n",
    "    muntenzonderm=munten[1:]\n",
    "    \n",
    "    return betalen(b-m,n-1,munten) or betalen(b,n,muntenzonderm)\n",
    "\n",
    "    \n",
    "def betalenMetMax(b,n):\n",
    "    return betalen(b,n,[1,2,5,10,20,50,100,200])\n",
    "\n",
    "print(betalenMetMax(134,4))\n",
    "print(betalenMetMax(134,5))\n",
    "print(betalenMetMax(134,7))\n",
    "print(betalenMetMax(135,4))"
   ]
  },
  {
   "cell_type": "code",
   "execution_count": null,
   "metadata": {},
   "outputs": [],
   "source": []
  }
 ],
 "metadata": {
  "kernelspec": {
   "display_name": "Python 3",
   "language": "python",
   "name": "python3"
  },
  "language_info": {
   "codemirror_mode": {
    "name": "ipython",
    "version": 3
   },
   "file_extension": ".py",
   "mimetype": "text/x-python",
   "name": "python",
   "nbconvert_exporter": "python",
   "pygments_lexer": "ipython3",
   "version": "3.8.3"
  }
 },
 "nbformat": 4,
 "nbformat_minor": 4
}
