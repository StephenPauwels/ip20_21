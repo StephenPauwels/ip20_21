{
 "cells": [
  {
   "cell_type": "markdown",
   "metadata": {},
   "source": [
    "# Samengestelde datatypes\n",
    "\n",
    "In de vorige notebooks zagen we reeds volgende enkelvpudige datatypes:\n",
    "- bool\n",
    "- int\n",
    "- float\n",
    "- string\n",
    "\n",
    "en ook volgende containertypes:\n",
    "\n",
    "- list\n",
    "- set\n",
    "- dict\n",
    "\n",
    "De containertypes kunnen elk ander type bevatten, waaronder opnieuw een containertype. Op die manier kunnen we complexe data structuren bouwen. We noemen dit *samengestelde datatypes*.\n",
    "\n",
    "Stel dat we een matrix van getallen willen voorstellen, bijvoorbeeld:\n",
    "\n",
    "$$\\begin{bmatrix} 1 & 2 & 1 \\\\ 3 & 0 & 1 \\\\ 0 & 2 & 4 \\end{bmatrix}$$\n",
    "\n",
    "We zouden dit kunnen doen door de rijen van de matrix achter elkaar in een lijst te stoppen en een functie te schrijven die het element op rij *i* en kolom *j* teruggeeft:"
   ]
  },
  {
   "cell_type": "code",
   "execution_count": 3,
   "metadata": {},
   "outputs": [
    {
     "name": "stdout",
     "output_type": "stream",
     "text": [
      "2\n",
      "4\n"
     ]
    }
   ],
   "source": [
    "def elementOp(L,i,j):\n",
    "    return L[(i-1)*3+(j-1)]\n",
    "\n",
    "L=[1,2,1,3,0,1,0,2,4]\n",
    "print(elementOp(L,1,2))\n",
    "print(elementOp(L,3,3))"
   ]
  },
  {
   "cell_type": "markdown",
   "metadata": {},
   "source": [
    "We kunnen er ook voor kiezen om de interne representatie (data structuur in het geheugen) dichter te laten aanleunen bij het object uit de \"echte wereld\" dat we willen voorstellen (de matrix). Bijvoorbeeld door de rijen van de matrix voor te stellen als lijsten, en de matrix zelf als een lijst van lijsten:"
   ]
  },
  {
   "cell_type": "code",
   "execution_count": 7,
   "metadata": {},
   "outputs": [
    {
     "name": "stdout",
     "output_type": "stream",
     "text": [
      "2\n",
      "4\n"
     ]
    }
   ],
   "source": [
    "rij1=[1,2,1]\n",
    "rij2=[3,0,1]\n",
    "rij3=[0,2,4]\n",
    "M=[rij1,rij2,rij3]\n",
    "\n",
    "# element op rij i en kolom j selecteren:\n",
    "print(M[0][1]) # rij 1, kolom 2\n",
    "print(M[2][2]) # rij 3, kolom 3"
   ]
  },
  {
   "cell_type": "markdown",
   "metadata": {},
   "source": [
    "Merk op dat in de code `M[0][1]` gezien wordt als `(M[0])[1]`; dat is: operator \"`[1]`\" wordt toegepast op het resultaat van `M[0]`. We kunnen onze datastructuur ook directer schrijven als volgt:"
   ]
  },
  {
   "cell_type": "code",
   "execution_count": 8,
   "metadata": {},
   "outputs": [],
   "source": [
    "M=[[1,2,1],[3,0,1],[0,2,4]]"
   ]
  },
  {
   "cell_type": "markdown",
   "metadata": {},
   "source": [
    "Deze manier om een matrix voor te stellen heeft bijkomen voordeel dat we de dimensies van de matrix kunnen afleiden uit de datastructuur; `len(M)` is het aantal rijen en bijvoorbeeld `len(M[0])` geeft het aantal kolommen.\n",
    "Volgende functie met parameter *n* geeft een eenheidmatrix van dimensie *n* x *n* terug:"
   ]
  },
  {
   "cell_type": "code",
   "execution_count": 10,
   "metadata": {},
   "outputs": [
    {
     "name": "stdout",
     "output_type": "stream",
     "text": [
      "[[1, 0, 0, 0, 0], [0, 1, 0, 0, 0], [0, 0, 1, 0, 0], [0, 0, 0, 1, 0], [0, 0, 0, 0, 1]]\n"
     ]
    }
   ],
   "source": [
    "def unitMatrix(n):\n",
    "    result=[]\n",
    "    for i in range(n):\n",
    "        rij=[0]*n\n",
    "        rij[i]=1\n",
    "        result.append(rij)    \n",
    "    return result\n",
    "\n",
    "print(unitMatrix(5))"
   ]
  },
  {
   "cell_type": "markdown",
   "metadata": {},
   "source": [
    "We kunnen ook de matrix mooi afdrukken:"
   ]
  },
  {
   "cell_type": "code",
   "execution_count": 11,
   "metadata": {},
   "outputs": [
    {
     "name": "stdout",
     "output_type": "stream",
     "text": [
      "1\t0\t0\t0\t0\t0\t0\t0\t0\t0\t\n",
      "0\t1\t0\t0\t0\t0\t0\t0\t0\t0\t\n",
      "0\t0\t1\t0\t0\t0\t0\t0\t0\t0\t\n",
      "0\t0\t0\t1\t0\t0\t0\t0\t0\t0\t\n",
      "0\t0\t0\t0\t1\t0\t0\t0\t0\t0\t\n",
      "0\t0\t0\t0\t0\t1\t0\t0\t0\t0\t\n",
      "0\t0\t0\t0\t0\t0\t1\t0\t0\t0\t\n",
      "0\t0\t0\t0\t0\t0\t0\t1\t0\t0\t\n",
      "0\t0\t0\t0\t0\t0\t0\t0\t1\t0\t\n",
      "0\t0\t0\t0\t0\t0\t0\t0\t0\t1\t\n"
     ]
    }
   ],
   "source": [
    "def printMatrix(M):\n",
    "    for rij in M:\n",
    "        for entry in rij:\n",
    "            print(entry,end=\"\\t\")  # Druk de entries af gescheiden door een tab-karakter om mooi uit te lijnen\n",
    "        print()\n",
    "\n",
    "M=unitMatrix(10)\n",
    "printMatrix(M)"
   ]
  },
  {
   "cell_type": "markdown",
   "metadata": {},
   "source": [
    "## Woordslang\n",
    "\n",
    "Het tweede voorbeeld dat we behandelen is \"woordslang\". Bij dit typische auto-spel begint een van de spelers met de naam van een dier te noemen. De volgdende speler moet dan een nieuw dier geven waarvan de nam begint met de laatste letter van de naam van het vorige dier. Dit gaat dan door tot een van de spelers de naam van een dier een tweede maal zegt, een niet-bestaande dieren naam zegt, of niet tijding met een dierennaam op de proppen kan komen.\n",
    "\n",
    "We gaan dit spel nu in Python simuleren. We beginnnen eerst met het inlezen van een lijst dierennamen uit een bestand. Dat kan in Python eenvoudig op volgende wijze:"
   ]
  },
  {
   "cell_type": "code",
   "execution_count": 6,
   "metadata": {},
   "outputs": [
    {
     "name": "stdout",
     "output_type": "stream",
     "text": [
      "aap\n",
      "panda\n",
      "rat\n",
      "bosuil\n",
      "kat\n"
     ]
    }
   ],
   "source": [
    "f=open(\"dier.txt\",\"r\")  # open file \"dier.txt\" om te lezen (*r*ead)\n",
    "                        # f is het geopende bestand\n",
    "\n",
    "n=5\n",
    "for line in f: # itereer over de lijnen in f; lees ze een voor een\n",
    "    cleanLine=line.strip() # Haal overtollige spaties en \\n weg aan begin en einde van de ngelezen lijn\n",
    "    print(cleanLine)\n",
    "    n-=1      # We gaan niet het hele bestand afprinten, maar enkel de eerste n lijnen\n",
    "    if n==0:  # We verlagen n telkens en als n == 0 stoppen we\n",
    "        break  # break gaat de for-loop onmiddelijk stoppen\n",
    "        \n",
    "f.close() # sluit het bestand terug; anders gaan we volgende keer gewoon verder lezen waar we waren\n",
    "\n"
   ]
  },
  {
   "cell_type": "markdown",
   "metadata": {},
   "source": [
    "Bij woordslang moeten we onthouden welke woorden reeds gespeeld werden en of het gezegde woord een bestaand woord is. Dit kunnen we doen door de bestaande woorden en de gespeelde woorden bij te houden in een set."
   ]
  },
  {
   "cell_type": "code",
   "execution_count": 24,
   "metadata": {},
   "outputs": [
    {
     "name": "stdout",
     "output_type": "stream",
     "text": [
      "Speler 1 moet een dier noemen: panda\n",
      "Speler 2 moet een dier noemen: aap\n",
      "Speler 1 moet een dier noemen: portugees oorlogsschip\n",
      "Speler 2 moet een dier noemen: peer\n",
      "Speler 2 verliest want peer bestaat niet.\n",
      "Speler 1 wint het spel!\n"
     ]
    }
   ],
   "source": [
    "f=open(\"dier.txt\",\"r\")  \n",
    "dieren=set()\n",
    "for line in f:\n",
    "    cleanLine=line.strip()\n",
    "    dieren.add(cleanLine) # voeg het dier toe aan de set dieren\n",
    "f.close()\n",
    "\n",
    "spelerAanBeurt=1\n",
    "fout=False\n",
    "gespeeld=set()\n",
    "vorige=\"\"\n",
    "while not fout:\n",
    "    s=input(\"Speler \"+str(spelerAanBeurt)+\" moet een dier noemen: \")\n",
    "    if vorige!=\"\" and vorige[-1]!=s[0]:\n",
    "        print(\"Speler \"+str(spelerAanBeurt)+\" verliest want de beginletter is fout!\")\n",
    "        fout=True\n",
    "    elif not s in dieren:\n",
    "        print(\"Speler \"+str(spelerAanBeurt)+\" verliest want \"+s+\" bestaat niet.\")\n",
    "        fout=True\n",
    "    elif s in gespeeld:\n",
    "        fout=True\n",
    "        print(\"Speler \"+str(spelerAanBeurt)+\" verliest want \"+s+\" werd reeds gespeeld.\")\n",
    "    else:\n",
    "        gespeeld.add(s)\n",
    "    if spelerAanBeurt==1:\n",
    "        spelerAanBeurt=2\n",
    "    else:\n",
    "        spelerAanBeurt=1\n",
    "    vorige=s\n",
    "        \n",
    "print(\"Speler \"+str(spelerAanBeurt)+\" wint het spel!\")"
   ]
  },
  {
   "cell_type": "markdown",
   "metadata": {},
   "source": [
    "Stel dat we nu een computerspeler willen maken. Dan is het belangrijk om te weten met welke letter een woord begint, of nog beter, voor elke beginletter een lijstje met dieren te hebben die met die letter beginnen. Zulk een lijstje kunnen we met een samengesteld datatype maken:"
   ]
  },
  {
   "cell_type": "code",
   "execution_count": 26,
   "metadata": {},
   "outputs": [
    {
     "name": "stdout",
     "output_type": "stream",
     "text": [
      "{'afrikaanse longvis', 'aziatische steenpatrijs', 'alk', 'aziatische goudkat', 'amerikaanse oehoe', 'afrikaanse jacana', 'axolotl', 'alpaca', 'amerikaanse bizon', 'afrikaanse olifant', 'alpenlandsalamander', 'agoeti', 'axishert', 'amerikaanse das', 'adã©liepinguã¯n', 'antilopegrondeekhoorn', 'alaskagrondeekhoorn', 'arowana', 'aziatische wilde ezel', 'afrikaanse bos-olifant', 'arapaima', 'amazonedolfijn', 'asgrauwe keverslak', 'atlantische hagedisvis', 'afrikaanse steppenvaraan', 'amerikaanse lepelsteur', 'amerikaanse bever', 'afrikaanse goudkat', 'argalischaap', 'aasgier', 'amerikaanse zeearend', 'amerikaanse sneeuwhaas', 'afrikaans boomschubdier', 'afrikaanse wilde kat', 'australische zeeleeuw', 'atlantische vlekdolfijn', 'anaconda', 'apollovlinder', 'atlantische sousa', 'aardwolf', 'afrikaanse civetkat', 'afrikaanse buffel', 'amerikaanse rivierkreeft', 'alligatorschildpad', 'afrikaanse eieretende slang', 'adder', 'asthenosoma varium', 'alpenmarmot', 'amazone-lamantijn', 'aziatische civetkat', 'amerikaanse nerts', 'australische zeebeer', 'antarctische zeebeer', 'aziatische olifant', 'amerikaanse marter', 'afrikaanse zeearend', 'alpensneeuwhoen', 'aardvarken', 'aalscholver', 'aap', 'angwantibo'}\n"
     ]
    }
   ],
   "source": [
    "dierenMet={} # nieuwe dictionary\n",
    "for dier in dieren:\n",
    "    startLetter=dier[0]\n",
    "    if startLetter not in dierenMet:\n",
    "        dierenMet[startLetter]=set()\n",
    "    dierenMet[startLetter].add(dier)\n",
    "    \n",
    "print(dierenMet[\"a\"])"
   ]
  },
  {
   "cell_type": "markdown",
   "metadata": {},
   "source": [
    "De computer zal dus steeds een woord uit de jusite lijst halen en dat woord spelen. Verder wordt elk gespeeld woord uit de juiste lijst weggehaald:"
   ]
  },
  {
   "cell_type": "code",
   "execution_count": 34,
   "metadata": {},
   "outputs": [
    {
     "name": "stdout",
     "output_type": "stream",
     "text": [
      "Speler 1 moet een dier noemen: panda\n",
      "Computer speelt : afrikaanse longvis\n",
      "Speler 1 moet een dier noemen: slang\n",
      "Computer speelt : gilamonster\n",
      "Speler 1 moet een dier noemen: rat\n",
      "Computer speelt : takin\n",
      "Speler 1 moet een dier noemen: neushoorn\n",
      "Speler 1 verliest want neushoorn bestaat niet.\n",
      "Speler 2 wint het spel!\n"
     ]
    }
   ],
   "source": [
    "f=open(\"dier.txt\",\"r\")  \n",
    "dieren=set()\n",
    "for line in f:\n",
    "    cleanLine=line.strip()\n",
    "    dieren.add(cleanLine) # voeg het dier toe aan de set dieren\n",
    "f.close()\n",
    "\n",
    "dierenMet={} # nieuwe dictionary\n",
    "for dier in dieren:\n",
    "    startLetter=dier[0]\n",
    "    if startLetter not in dierenMet:\n",
    "        dierenMet[startLetter]=set()\n",
    "    dierenMet[startLetter].add(dier)\n",
    "\n",
    "spelerAanBeurt=1\n",
    "fout=False\n",
    "gespeeld=set()\n",
    "vorige=\"\"\n",
    "while not fout:\n",
    "    if spelerAanBeurt==1:\n",
    "        s=input(\"Speler \"+str(spelerAanBeurt)+\" moet een dier noemen: \")\n",
    "    else:\n",
    "        # computerspeler\n",
    "        dierenMet[vorige[0]].remove(vorige)\n",
    "        laatsteLetter=vorige[-1]\n",
    "        s=dierenMet[laatsteLetter].pop()  # pop haalt een willekeurig element uit een lijst weg\n",
    "        print(\"Computer speelt :\",s)\n",
    "    if vorige!=\"\" and vorige[-1]!=s[0]:\n",
    "        print(\"Speler \"+str(spelerAanBeurt)+\" verliest want de beginletter is fout!\")\n",
    "        fout=True\n",
    "    elif not s in dieren:\n",
    "        print(\"Speler \"+str(spelerAanBeurt)+\" verliest want \"+s+\" bestaat niet.\")\n",
    "        fout=True\n",
    "    elif s in gespeeld:\n",
    "        fout=True\n",
    "        print(\"Speler \"+str(spelerAanBeurt)+\" verliest want \"+s+\" werd reeds gespeeld.\")\n",
    "    else:\n",
    "        gespeeld.add(s)\n",
    "    if spelerAanBeurt==1:\n",
    "        spelerAanBeurt=2\n",
    "    else:\n",
    "        spelerAanBeurt=1\n",
    "    vorige=s\n",
    "    \n",
    "print(\"Speler \"+str(spelerAanBeurt)+\" wint het spel!\")"
   ]
  },
  {
   "cell_type": "code",
   "execution_count": null,
   "metadata": {},
   "outputs": [],
   "source": []
  },
  {
   "cell_type": "code",
   "execution_count": null,
   "metadata": {},
   "outputs": [],
   "source": []
  }
 ],
 "metadata": {
  "kernelspec": {
   "display_name": "Python 3",
   "language": "python",
   "name": "python3"
  },
  "language_info": {
   "codemirror_mode": {
    "name": "ipython",
    "version": 3
   },
   "file_extension": ".py",
   "mimetype": "text/x-python",
   "name": "python",
   "nbconvert_exporter": "python",
   "pygments_lexer": "ipython3",
   "version": "3.8.3"
  }
 },
 "nbformat": 4,
 "nbformat_minor": 4
}
