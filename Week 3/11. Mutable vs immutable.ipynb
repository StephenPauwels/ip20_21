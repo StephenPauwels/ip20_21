{
 "cells": [
  {
   "cell_type": "markdown",
   "metadata": {},
   "source": [
    "# Mutable en immutable\n",
    "\n",
    "In Python kan je een variabele conceptueel het beste beschouwen als een verwijzing naar een *object*. Als we schrijven `x=5` vragen we aan Python om variabele `x` naar het object `5`te laten verwijzen. Verder onderscheidt Python twee soorten objecten; *mutable* (wijzigbare) objecten en *immutable* (niet-wijzigbare) objecten. Een voorbeeld van een mutable object is een lijst; als we met `L.append(element)` een element toevoegen aan een lijst, dan is dat nog steeds dezelfde lijst, maar is die lijst wel veranderd.\n",
    "\n",
    "Waarom is dit belangrijk? Omdat dit erg verwarrend kan zijn als we ons hier niet bewust van zijn. Beschouw bijvoorbeeld volgende regels code:"
   ]
  },
  {
   "cell_type": "code",
   "execution_count": 2,
   "metadata": {},
   "outputs": [
    {
     "name": "stdout",
     "output_type": "stream",
     "text": [
      "[1]\n"
     ]
    }
   ],
   "source": [
    "L=[]  # L verwijst naar een nieuwe, lege lijst\n",
    "K=L   # K verwijst naar *dezelfde* lijst\n",
    "\n",
    "L.append(1)\n",
    "print(K)"
   ]
  },
  {
   "cell_type": "markdown",
   "metadata": {},
   "source": [
    "Wat gebeurt hier? Telkens als we een uitdrukking `variable=waarde` gebruiken, vergeten we waarnaar `variabele` verwijst en laten we vanaf dan `variabele` wijzen naar object `waarde`. Wanneer we `L=[]` schrijven, maken we een nieuwe lijst aan, en laten we `L` hiernaar verwijzen. Als we in de volgende regel dan `K=L` schrijven, laten we `K` verwijzen naar de lijst `L`. Variabelen `K` en `L` verwijzen dus beiden naar *dezelfde* lijst. Dus, als we vervolgens lijst `L` \"muteren\" door er een element aan toe te voegen, dan verandert dus ook `K`. Of beter gezegd: aangezien `K` naar dezelfde lijst verwijst als `L`, zal het wijzigen van de lijst waar `L` naar verwijst tot gevolg hebben dat ook de lijst waar `K` naar verwijst, gewijzigd is.\n",
    "\n",
    "Bekijk even volgende foutief voorbeeld om een eenheidsmatrix aan te maken, waarbij de interpretatie van mutable en variabelen die naar hetzelfde lijst-object verwijzen, grondig misloopt."
   ]
  },
  {
   "cell_type": "code",
   "execution_count": 4,
   "metadata": {},
   "outputs": [
    {
     "name": "stdout",
     "output_type": "stream",
     "text": [
      "[[1, 1, 1, 1, 1], [1, 1, 1, 1, 1], [1, 1, 1, 1, 1], [1, 1, 1, 1, 1], [1, 1, 1, 1, 1]]\n"
     ]
    }
   ],
   "source": [
    "n=5\n",
    "nulrij=[0]*n\n",
    "M=[]\n",
    "for i in range(n):\n",
    "    rij=nulrij\n",
    "    rij[i]=1\n",
    "    M.append(rij)\n",
    "    \n",
    "print(M)"
   ]
  },
  {
   "cell_type": "markdown",
   "metadata": {},
   "source": [
    "Het probleem hier is dat rij=nulrij geen nieuwe rij aanmaakt, maar rij laat verwijzen naar hetzelfde lijst-object als nulrij. Willen we dit vermijden kunnen we gebruik maken van `copy` (uit module `copy`), of `nulrij[:]` gebruiken; de slicing operator genereert een nieuwe lijst; hier in dit geval een lijst die toevallig exact even groot is als de oorspronkelijke lijst (omdat begin- en eindindex ontbreken in de notatie `[:]` worden standaard het begin en het einde van de lijst genomen)."
   ]
  },
  {
   "cell_type": "code",
   "execution_count": 5,
   "metadata": {},
   "outputs": [
    {
     "name": "stdout",
     "output_type": "stream",
     "text": [
      "[[1, 0, 0, 0, 0], [0, 1, 0, 0, 0], [0, 0, 1, 0, 0], [0, 0, 0, 1, 0], [0, 0, 0, 0, 1]]\n"
     ]
    }
   ],
   "source": [
    "n=5\n",
    "nulrij=[0]*n\n",
    "M=[]\n",
    "for i in range(n):\n",
    "    rij=nulrij[:]\n",
    "    rij[i]=1\n",
    "    M.append(rij)\n",
    "    \n",
    "print(M)"
   ]
  },
  {
   "cell_type": "markdown",
   "metadata": {},
   "source": [
    "of ook:"
   ]
  },
  {
   "cell_type": "code",
   "execution_count": 6,
   "metadata": {},
   "outputs": [
    {
     "name": "stdout",
     "output_type": "stream",
     "text": [
      "[[1, 0, 0, 0, 0], [0, 1, 0, 0, 0], [0, 0, 1, 0, 0], [0, 0, 0, 1, 0], [0, 0, 0, 0, 1]]\n"
     ]
    }
   ],
   "source": [
    "from copy import copy\n",
    "\n",
    "n=5\n",
    "nulrij=[0]*n\n",
    "M=[]\n",
    "for i in range(n):\n",
    "    rij=copy(nulrij)\n",
    "    rij[i]=1\n",
    "    M.append(rij)\n",
    "    \n",
    "print(M)"
   ]
  },
  {
   "cell_type": "markdown",
   "metadata": {},
   "source": [
    "Een gelijkaardig probleem krijgen we als we een matrix willen kopiëren:"
   ]
  },
  {
   "cell_type": "code",
   "execution_count": 7,
   "metadata": {},
   "outputs": [
    {
     "name": "stdout",
     "output_type": "stream",
     "text": [
      "[[2, 0, 0, 0, 0], [0, 1, 0, 0, 0], [0, 0, 1, 0, 0], [0, 0, 0, 1, 0], [0, 0, 0, 0, 1]]\n"
     ]
    }
   ],
   "source": [
    "n=5\n",
    "nulrij=[0]*n\n",
    "M=[]\n",
    "for i in range(n):\n",
    "    rij=copy(nulrij)\n",
    "    rij[i]=1\n",
    "    M.append(rij)\n",
    "\n",
    "N=M\n",
    "N[0][0]=2\n",
    "print(M)"
   ]
  },
  {
   "cell_type": "markdown",
   "metadata": {},
   "source": [
    "Opnieuw moeten we een kopij maken, maar we moeten er wel op letten dat we een *diepe* kopij maken. Volgend stukje code doet dit niet, en dat loop fout:"
   ]
  },
  {
   "cell_type": "code",
   "execution_count": 8,
   "metadata": {},
   "outputs": [
    {
     "name": "stdout",
     "output_type": "stream",
     "text": [
      "[[2, 0, 0, 0, 0], [0, 1, 0, 0, 0], [0, 0, 1, 0, 0], [0, 0, 0, 1, 0], [0, 0, 0, 0, 1]]\n"
     ]
    }
   ],
   "source": [
    "n=5\n",
    "nulrij=[0]*n\n",
    "M=[]\n",
    "for i in range(n):\n",
    "    rij=copy(nulrij)\n",
    "    rij[i]=1\n",
    "    M.append(rij)\n",
    "\n",
    "N=M[:]\n",
    "N[0][0]=2\n",
    "print(M)"
   ]
  },
  {
   "cell_type": "markdown",
   "metadata": {},
   "source": [
    "Wat loopt er hier fout? `N` is effectief een kopij van `M`, maar `N` bevat verwijzingen naar dezelfde rijen. Met andere woorden, als we in het tweede geval een rij van `N` overschrijven, is die niet overschreven in `M`, maar als we ze aanpassen, dan zal die aanpassing wel doorgevoerd worden in `M`:"
   ]
  },
  {
   "cell_type": "code",
   "execution_count": 11,
   "metadata": {},
   "outputs": [
    {
     "name": "stdout",
     "output_type": "stream",
     "text": [
      "[[2, 0, 0, 0, 0], [0, 1, 0, 0, 0], [0, 0, 1, 0, 0], [0, 0, 0, 1, 0], [0, 0, 0, 0, 1]]\n"
     ]
    }
   ],
   "source": [
    "n=5\n",
    "nulrij=[0]*n\n",
    "M=[]\n",
    "for i in range(n):\n",
    "    rij=copy(nulrij)\n",
    "    rij[i]=1\n",
    "    M.append(rij)\n",
    "\n",
    "# Geval 1:\n",
    "N=M\n",
    "N[0]=[2,0,0,0,0]\n",
    "print(M)"
   ]
  },
  {
   "cell_type": "code",
   "execution_count": 12,
   "metadata": {},
   "outputs": [
    {
     "name": "stdout",
     "output_type": "stream",
     "text": [
      "[[1, 0, 0, 0, 0], [0, 1, 0, 0, 0], [0, 0, 1, 0, 0], [0, 0, 0, 1, 0], [0, 0, 0, 0, 1]]\n"
     ]
    }
   ],
   "source": [
    "n=5\n",
    "nulrij=[0]*n\n",
    "M=[]\n",
    "for i in range(n):\n",
    "    rij=copy(nulrij)\n",
    "    rij[i]=1\n",
    "    M.append(rij)\n",
    "\n",
    "# Geval 2:\n",
    "N=M[:]\n",
    "N[0]=[2,0,0,0,0]\n",
    "print(M)"
   ]
  },
  {
   "cell_type": "code",
   "execution_count": null,
   "metadata": {},
   "outputs": [],
   "source": []
  }
 ],
 "metadata": {
  "kernelspec": {
   "display_name": "Python 3",
   "language": "python",
   "name": "python3"
  },
  "language_info": {
   "codemirror_mode": {
    "name": "ipython",
    "version": 3
   },
   "file_extension": ".py",
   "mimetype": "text/x-python",
   "name": "python",
   "nbconvert_exporter": "python",
   "pygments_lexer": "ipython3",
   "version": "3.8.3"
  }
 },
 "nbformat": 4,
 "nbformat_minor": 4
}
