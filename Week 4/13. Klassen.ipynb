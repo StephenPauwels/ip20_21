{
 "cells": [
  {
   "cell_type": "markdown",
   "metadata": {},
   "source": [
    "# Klassen\n",
    "\n",
    "In een van de vorige notebooks zagen we hoe we door types te combineren complexe datastructuren konden opbouwen. Dit heeft echter ook nadelen, bijvoorbeeld dat we overal in de code moeten weten hoe deze datastructuur exact in elkaar zit. Stel dat we bijvoorbeeld een programma maken dat informatie over studenten, hun vakken en hun punten voor die vakken bijhoudt. Dan zouden we volgende structuren kunnen gebruiken:"
   ]
  },
  {
   "cell_type": "code",
   "execution_count": 7,
   "metadata": {},
   "outputs": [],
   "source": [
    "student1=[20201234,\"Joske\",\"Vermeulen\",\"Tramezantlei 122\", \"Schoten\",\n",
    "          [(\"Inleiding programmeren\",11),(\"Gegevensabstractie en datastructuren\",13)]]\n",
    "student2=[20201235,\"Sander\",\"Slisse\",\"Autolei 14\", \"Mortsel\",\n",
    "          [(\"Inleiding programmeren\",15),(\"Computer Systemen en Architectuur\",13)]]"
   ]
  },
  {
   "cell_type": "markdown",
   "metadata": {},
   "source": [
    "De puntenlijst van een student kunnen we dan afdrukken met volgende functie:"
   ]
  },
  {
   "cell_type": "code",
   "execution_count": 8,
   "metadata": {},
   "outputs": [
    {
     "name": "stdout",
     "output_type": "stream",
     "text": [
      "Punten van J. Vermeulen (20201234)\n",
      "Inleiding programmeren \t 11\n",
      "Gegevensabstractie en datastructuren \t 13\n"
     ]
    }
   ],
   "source": [
    "def printPuntenLijst(s):\n",
    "    print(\"Punten van \"+s[1][0]+\". \"+s[2]+\" (\"+str(s[0])+\")\")\n",
    "    for (vak,punt) in s[-1]:\n",
    "        print(vak,\"\\t\",punt)\n",
    "        \n",
    "printPuntenLijst(student1)"
   ]
  },
  {
   "cell_type": "markdown",
   "metadata": {},
   "source": [
    "Zoals we zien is om deze code te schrijven een goede kennis van de datastructuur vereist. Bovendien, als we wijzigingen aanbrengen aan de datastructuur, dan heeft dit gevolgen voor alle plekken in het programma waar de datastructuur gebruikt wordt. \n",
    "\n",
    "Bijvoorbeeld, stel dat we niet enkel het punt willen opslaan, maar ook de datum waarop dit punt behaald werd:"
   ]
  },
  {
   "cell_type": "code",
   "execution_count": 9,
   "metadata": {},
   "outputs": [],
   "source": [
    "student1=[20201234,\"Joske\",\"Vermeulen\",\"Tramezantlei 122\", \"Schoten\",\n",
    "          [(\"Inleiding programmeren\",11,(18,1,2020)),(\"Gegevensabstractie en datastructuren\",13,(10,1,2020))]]\n",
    "student2=[20201235,\"Sander\",\"Slisse\",\"Autolei 14\", \"Mortsel\",\n",
    "          [(\"Inleiding programmeren\",15,(10,1,2020)),(\"Computer Systemen en Architectuur\",13,(25,1,2020))]]"
   ]
  },
  {
   "cell_type": "markdown",
   "metadata": {},
   "source": [
    "Door deze aanpassing werkt onze functie `printPuntenLijst` echter niet meer:"
   ]
  },
  {
   "cell_type": "code",
   "execution_count": 10,
   "metadata": {},
   "outputs": [
    {
     "name": "stdout",
     "output_type": "stream",
     "text": [
      "Punten van J. Vermeulen (20201234)\n"
     ]
    },
    {
     "ename": "ValueError",
     "evalue": "too many values to unpack (expected 2)",
     "output_type": "error",
     "traceback": [
      "\u001b[1;31m---------------------------------------------------------------------------\u001b[0m",
      "\u001b[1;31mValueError\u001b[0m                                Traceback (most recent call last)",
      "\u001b[1;32m<ipython-input-10-eb3647ff1d18>\u001b[0m in \u001b[0;36m<module>\u001b[1;34m\u001b[0m\n\u001b[1;32m----> 1\u001b[1;33m \u001b[0mprintPuntenLijst\u001b[0m\u001b[1;33m(\u001b[0m\u001b[0mstudent1\u001b[0m\u001b[1;33m)\u001b[0m\u001b[1;33m\u001b[0m\u001b[1;33m\u001b[0m\u001b[0m\n\u001b[0m",
      "\u001b[1;32m<ipython-input-8-bce04c3b211a>\u001b[0m in \u001b[0;36mprintPuntenLijst\u001b[1;34m(s)\u001b[0m\n\u001b[0;32m      1\u001b[0m \u001b[1;32mdef\u001b[0m \u001b[0mprintPuntenLijst\u001b[0m\u001b[1;33m(\u001b[0m\u001b[0ms\u001b[0m\u001b[1;33m)\u001b[0m\u001b[1;33m:\u001b[0m\u001b[1;33m\u001b[0m\u001b[1;33m\u001b[0m\u001b[0m\n\u001b[0;32m      2\u001b[0m     \u001b[0mprint\u001b[0m\u001b[1;33m(\u001b[0m\u001b[1;34m\"Punten van \"\u001b[0m\u001b[1;33m+\u001b[0m\u001b[0ms\u001b[0m\u001b[1;33m[\u001b[0m\u001b[1;36m1\u001b[0m\u001b[1;33m]\u001b[0m\u001b[1;33m[\u001b[0m\u001b[1;36m0\u001b[0m\u001b[1;33m]\u001b[0m\u001b[1;33m+\u001b[0m\u001b[1;34m\". \"\u001b[0m\u001b[1;33m+\u001b[0m\u001b[0ms\u001b[0m\u001b[1;33m[\u001b[0m\u001b[1;36m2\u001b[0m\u001b[1;33m]\u001b[0m\u001b[1;33m+\u001b[0m\u001b[1;34m\" (\"\u001b[0m\u001b[1;33m+\u001b[0m\u001b[0mstr\u001b[0m\u001b[1;33m(\u001b[0m\u001b[0ms\u001b[0m\u001b[1;33m[\u001b[0m\u001b[1;36m0\u001b[0m\u001b[1;33m]\u001b[0m\u001b[1;33m)\u001b[0m\u001b[1;33m+\u001b[0m\u001b[1;34m\")\"\u001b[0m\u001b[1;33m)\u001b[0m\u001b[1;33m\u001b[0m\u001b[1;33m\u001b[0m\u001b[0m\n\u001b[1;32m----> 3\u001b[1;33m     \u001b[1;32mfor\u001b[0m \u001b[1;33m(\u001b[0m\u001b[0mvak\u001b[0m\u001b[1;33m,\u001b[0m\u001b[0mpunt\u001b[0m\u001b[1;33m)\u001b[0m \u001b[1;32min\u001b[0m \u001b[0ms\u001b[0m\u001b[1;33m[\u001b[0m\u001b[1;33m-\u001b[0m\u001b[1;36m1\u001b[0m\u001b[1;33m]\u001b[0m\u001b[1;33m:\u001b[0m\u001b[1;33m\u001b[0m\u001b[1;33m\u001b[0m\u001b[0m\n\u001b[0m\u001b[0;32m      4\u001b[0m         \u001b[0mprint\u001b[0m\u001b[1;33m(\u001b[0m\u001b[0mvak\u001b[0m\u001b[1;33m,\u001b[0m\u001b[1;34m\"\\t\"\u001b[0m\u001b[1;33m,\u001b[0m\u001b[0mpunt\u001b[0m\u001b[1;33m)\u001b[0m\u001b[1;33m\u001b[0m\u001b[1;33m\u001b[0m\u001b[0m\n\u001b[0;32m      5\u001b[0m \u001b[1;33m\u001b[0m\u001b[0m\n",
      "\u001b[1;31mValueError\u001b[0m: too many values to unpack (expected 2)"
     ]
    }
   ],
   "source": [
    "printPuntenLijst(student1)"
   ]
  },
  {
   "cell_type": "markdown",
   "metadata": {},
   "source": [
    "Dit soort problemen kunnen we vermijden door op 1 plaats functies te voorzien die de verschillende componenten van student teruggeven en aanpassen:"
   ]
  },
  {
   "cell_type": "code",
   "execution_count": 11,
   "metadata": {},
   "outputs": [
    {
     "name": "stdout",
     "output_type": "stream",
     "text": [
      "Punten van J. Vermeulen (20201234)\n",
      "Inleiding programmeren \t 11\n",
      "Gegevensabstractie en datastructuren \t 13\n"
     ]
    }
   ],
   "source": [
    "def nieuweStudent(ID,vnaam,anaam,straat,gemeente,vakken):\n",
    "    return [ID,vnaam,anaam,straat,gemeente,vakken]\n",
    "\n",
    "def getID(student):\n",
    "    return student[0]\n",
    "\n",
    "def getVNaam(student):\n",
    "    return student[1]\n",
    "\n",
    "def getANaam(student):\n",
    "    return student[2]\n",
    "\n",
    "def getVakken(student):\n",
    "    return student[-1]\n",
    "\n",
    "def getVakNaam(vak):\n",
    "    return vak[0]\n",
    "\n",
    "def getVakPunt(vak):\n",
    "    return vak[1]\n",
    "\n",
    "def getVakExamenDatum(vak):\n",
    "    return vak[-1]\n",
    "\n",
    "def printPuntenLijst(student):\n",
    "    print(\"Punten van \"+getVNaam(student)[0]+\". \"+getANaam(student)+\" (\"+str(getID(student))+\")\")\n",
    "    for vak in getVakken(student):\n",
    "        print(getVakNaam(vak),\"\\t\",getVakPunt(vak))\n",
    "        \n",
    "student1=nieuweStudent(20201234,\"Joske\",\"Vermeulen\",\"Tramezantlei 122\", \"Schoten\",\n",
    "          [(\"Inleiding programmeren\",11,(18,1,2020)),(\"Gegevensabstractie en datastructuren\",13,(10,1,2020))])\n",
    "student2=nieuweStudent(20201235,\"Sander\",\"Slisse\",\"Autolei 14\", \"Mortsel\",\n",
    "          [(\"Inleiding programmeren\",15,(10,1,2020)),(\"Computer Systemen en Architectuur\",13,(25,1,2020))])\n",
    "\n",
    "printPuntenLijst(student1)\n"
   ]
  },
  {
   "cell_type": "markdown",
   "metadata": {},
   "source": [
    "We hebben dus langs de ene kant data en aan de andere kant functies die op dei data werken en die bij elkaar horen. In zekere zin vormen de data en functies samen een nieuw *type* student. Dit kunnen we expliciet maken door die data en functies samen te voegen in een *klasse* (*class*) student. Alle studenten die we in ons programma dan gaan gebruiken zijn dan *instanties* of *objecten* van die klasse. Net zoals `\"abcd\"` een instantie is van klasse string, en `s.lower()` een functie is die op een string `s` werkt, worden in het volgende programmaatje `student1` en `student2` instanties van klasse `student`. Bekijk deze code even om het idee te vatten; we bekijken de individuele componenten erna."
   ]
  },
  {
   "cell_type": "code",
   "execution_count": 13,
   "metadata": {},
   "outputs": [
    {
     "name": "stdout",
     "output_type": "stream",
     "text": [
      "Punten van J. Vermeulen (20201234)\n",
      "Inleiding programmeren \t 11\n",
      "Gegevensabstractie en datastructuren \t 13\n"
     ]
    }
   ],
   "source": [
    "def getVakNaam(vak):\n",
    "    return vak[0]\n",
    "\n",
    "def getVakPunt(vak):\n",
    "    return vak[1]\n",
    "\n",
    "def getVakExamenDatum(vak):\n",
    "    return vak[-1]\n",
    "\n",
    "\n",
    "class student:\n",
    "    def nieuweStudent(self,ID,vnaam,anaam,straat,gemeente,vakken):\n",
    "        self.ID=ID\n",
    "        self.vnaam=vnaam\n",
    "        self.anaam=anaam\n",
    "        self.straat=straat\n",
    "        self.gemeente=gemeente\n",
    "        self.vakken=vakken\n",
    "\n",
    "    def getID(self):\n",
    "        return self.ID\n",
    "\n",
    "    def getVNaam(self):\n",
    "        return self.vnaam\n",
    "\n",
    "    def getANaam(self):\n",
    "        return self.anaam\n",
    "\n",
    "    def getVakken(self):\n",
    "        return self.vakken\n",
    "\n",
    "    def printPuntenLijst(self):\n",
    "        print(\"Punten van \"+self.getVNaam()[0]+\". \"+self.getANaam()+\" (\"+str(self.getID())+\")\")\n",
    "        for vak in self.getVakken():\n",
    "            print(getVakNaam(vak),\"\\t\",getVakPunt(vak))\n",
    "\n",
    "\n",
    "            \n",
    "student1=student()\n",
    "student1.nieuweStudent(20201234,\"Joske\",\"Vermeulen\",\"Tramezantlei 122\", \"Schoten\",\n",
    "          [(\"Inleiding programmeren\",11,(18,1,2020)),(\"Gegevensabstractie en datastructuren\",13,(10,1,2020))])\n",
    "student2=student()\n",
    "student2.nieuweStudent(20201235,\"Sander\",\"Slisse\",\"Autolei 14\", \"Mortsel\",\n",
    "          [(\"Inleiding programmeren\",15,(10,1,2020)),(\"Computer Systemen en Architectuur\",13,(25,1,2020))])\n",
    "\n",
    "student1.printPuntenLijst()  "
   ]
  },
  {
   "cell_type": "markdown",
   "metadata": {},
   "source": [
    "## Definitie van een klasse\n",
    "\n",
    "Met het keyword `class` duiden we aan dat wat volgt de *definitie* is van een klasse. Net zoals bij een functie doet een definitie zelf niets. `class` wordt gevolgd door de naam van de klasse, student in dit geval, en een dubbele punt. De definitie van de klasse is nu het ingesprongen gedeelte na de dubbele punt.\n",
    "\n",
    "We bouwen ons voorbeeld op startende van een lege klasse. Omdat Python geen lege blokken toestaat, schrijven we na de definitie van onze klasse `pass`; wat zoveel betekent als: niets te zien hier, loop maar door."
   ]
  },
  {
   "cell_type": "code",
   "execution_count": 31,
   "metadata": {},
   "outputs": [],
   "source": [
    "class vb:\n",
    "    pass"
   ]
  },
  {
   "cell_type": "markdown",
   "metadata": {},
   "source": [
    "### Instanties van een klasse maken\n",
    "\n",
    "We kunnen nu *instanties* of *objecten* van deze klasse aanmaken door de naam van de klasse te nemen gevolgd door lege haken. Dus, in ons minimaal voorbeeld: `vb()`. Dit creëert een nieuw object van onze klasse. Dit object kunnen we toekennen aan een variabele, meegeven als parameter aan een functie, enzovoort. Het is een waarde net als `5`, `\"abc\"`, `[]`, of `{'a':1}`.  "
   ]
  },
  {
   "cell_type": "code",
   "execution_count": 32,
   "metadata": {},
   "outputs": [
    {
     "name": "stdout",
     "output_type": "stream",
     "text": [
      "<__main__.vb object at 0x000002331EB4AD60> <__main__.vb object at 0x000002331EB4A3A0> <__main__.vb object at 0x000002331EB4A0A0>\n"
     ]
    }
   ],
   "source": [
    "v1=vb()\n",
    "v2=vb()\n",
    "print(vb(),v1,v2)"
   ]
  },
  {
   "cell_type": "markdown",
   "metadata": {},
   "source": [
    "In de uitvoer van de `print` in vorig voorbeeldje zie je dat er drie verschillende objecten van klasse `vb` werden aangemaakt. Je kan zien dat het verschillende objecten zijn aan de hand van hun geheugenadres dat volgt na `at`.\n",
    "Een andere manier om de identiteit van objecten te testen is vis de functie `id` die van elk object de unieke identifier geeft; zeg maar het paspoortnummer. "
   ]
  },
  {
   "cell_type": "code",
   "execution_count": 33,
   "metadata": {},
   "outputs": [
    {
     "name": "stdout",
     "output_type": "stream",
     "text": [
      "2418581742496 2418581741728 2418581743792\n"
     ]
    }
   ],
   "source": [
    "print(id(v1),id(v2),id(vb()))"
   ]
  },
  {
   "cell_type": "markdown",
   "metadata": {},
   "source": [
    "### Data aan een object koppelen\n",
    "\n",
    "We kunnen de inhoud van een object inspecteren via de dot (`.`) operatie. In onze objecten zit momenteel nog niets in, dus kunnen we ook niets inspecteren.\n",
    "\n",
    "In Python is het erg eenvoudig om aan een object data te koppelen, opnieuw door gebruik te maken van `.`. We kunnen bijvoorbeeld variabelen `x` en `y` toevoegen aan object `v1`:"
   ]
  },
  {
   "cell_type": "code",
   "execution_count": 34,
   "metadata": {},
   "outputs": [
    {
     "name": "stdout",
     "output_type": "stream",
     "text": [
      "3 7\n"
     ]
    }
   ],
   "source": [
    "v1.x=3\n",
    "v1.y=7\n",
    "print(v1.x,v1.y)"
   ]
  },
  {
   "cell_type": "markdown",
   "metadata": {},
   "source": [
    "### Methods\n",
    "\n",
    "Meestal gaan we echter niet rechtstreeks variabelen toevoegen aan objecten van een klasse, maar gaan we dat doen via functies die voor de hele klasse gedefinieerd zijn. Een definitie van een klasse bestaat dan typisch ook uit een verzameling functies, ook wel de *methods* van de klasse worden genoemd. Elke *method* heeft een verplichte eerste parameter die het object zelf weergeeft. De conventie is om die eerste parameter altijd `self` te noemen. Op die manier kunnen de methods makkelijk de data van het object benaderen.\n",
    "\n",
    "Een method aanroepen op een object doen we opnieuw via de dot operator. Bij het aanroepen van een method van een klasse o een object van die klasse hoeven we niet zelf een argument te geven voor de parameter `self`. Python zal die zelf invullen.\n",
    "Volgend voorbeeld illustreert het toevoegen en gebruiken van methods."
   ]
  },
  {
   "cell_type": "code",
   "execution_count": 35,
   "metadata": {},
   "outputs": [
    {
     "name": "stdout",
     "output_type": "stream",
     "text": [
      "1 2\n",
      "3 4\n"
     ]
    }
   ],
   "source": [
    "class vb:\n",
    "    def addData(self,x,y):\n",
    "        self.x=x\n",
    "        self.y=y\n",
    "    \n",
    "    def printData(self):\n",
    "        print(self.x,self.y)\n",
    "        \n",
    "        \n",
    "v1=vb()\n",
    "v2=vb()\n",
    "v1.addData(1,2)   # geen argument voor self nodig! \n",
    "v2.addData(3,4)   # geen argument voor self nodig!\n",
    "\n",
    "v1.printData()   # geen argument voor self nodig!\n",
    "v2.printData()   # geen argument voor self nodig!"
   ]
  },
  {
   "cell_type": "markdown",
   "metadata": {},
   "source": [
    "Zorg ervoor dat je nooit vergeet om in de defintie van een method `self` als eerste parameter op te nemen. Als je dat vergeet, zal namelijk de eerste parameter hiervoor gebruikt worden met eigenaardige foutmeldingen tot gevolg: "
   ]
  },
  {
   "cell_type": "code",
   "execution_count": 36,
   "metadata": {},
   "outputs": [
    {
     "ename": "TypeError",
     "evalue": "addData() takes 2 positional arguments but 3 were given",
     "output_type": "error",
     "traceback": [
      "\u001b[1;31m---------------------------------------------------------------------------\u001b[0m",
      "\u001b[1;31mTypeError\u001b[0m                                 Traceback (most recent call last)",
      "\u001b[1;32m<ipython-input-36-b36ae911cc67>\u001b[0m in \u001b[0;36m<module>\u001b[1;34m\u001b[0m\n\u001b[0;32m     10\u001b[0m \u001b[0mv1\u001b[0m\u001b[1;33m=\u001b[0m\u001b[0mvb\u001b[0m\u001b[1;33m(\u001b[0m\u001b[1;33m)\u001b[0m\u001b[1;33m\u001b[0m\u001b[1;33m\u001b[0m\u001b[0m\n\u001b[0;32m     11\u001b[0m \u001b[0mv2\u001b[0m\u001b[1;33m=\u001b[0m\u001b[0mvb\u001b[0m\u001b[1;33m(\u001b[0m\u001b[1;33m)\u001b[0m\u001b[1;33m\u001b[0m\u001b[1;33m\u001b[0m\u001b[0m\n\u001b[1;32m---> 12\u001b[1;33m \u001b[0mv1\u001b[0m\u001b[1;33m.\u001b[0m\u001b[0maddData\u001b[0m\u001b[1;33m(\u001b[0m\u001b[1;36m1\u001b[0m\u001b[1;33m,\u001b[0m\u001b[1;36m2\u001b[0m\u001b[1;33m)\u001b[0m\u001b[1;33m\u001b[0m\u001b[1;33m\u001b[0m\u001b[0m\n\u001b[0m\u001b[0;32m     13\u001b[0m \u001b[0mv2\u001b[0m\u001b[1;33m.\u001b[0m\u001b[0maddData\u001b[0m\u001b[1;33m(\u001b[0m\u001b[1;36m3\u001b[0m\u001b[1;33m,\u001b[0m\u001b[1;36m4\u001b[0m\u001b[1;33m)\u001b[0m\u001b[1;33m\u001b[0m\u001b[1;33m\u001b[0m\u001b[0m\n\u001b[0;32m     14\u001b[0m \u001b[1;33m\u001b[0m\u001b[0m\n",
      "\u001b[1;31mTypeError\u001b[0m: addData() takes 2 positional arguments but 3 were given"
     ]
    }
   ],
   "source": [
    "class vb:\n",
    "    def addData(x,y):  # self vergeten !!!\n",
    "        self.x=x\n",
    "        self.y=y\n",
    "    \n",
    "    def printData():  # self vergeten !!!\n",
    "        print(self.x,self.y)\n",
    "        \n",
    "        \n",
    "v1=vb()\n",
    "v2=vb()\n",
    "v1.addData(1,2)   \n",
    "v2.addData(3,4)  \n",
    "\n",
    "v1.printData()   \n",
    "v2.printData()  \n"
   ]
  },
  {
   "cell_type": "markdown",
   "metadata": {},
   "source": [
    "Je krijgt hier de fout dat `addData` maar 2 parameters heeft en jij 3 argumenten hebt gegeven. ERg verwarrend, mar dit komt omdat Python intern `v1.addData(1,2)` omzet naar `vb.addData(v1,1,2)`. \n",
    "\n",
    "Vergeet ook niet om `self.` te zetten voor de variabelen die bij het object horen. Als je `self.` vergeet, dan wordt de waarde niet in het object opgeslagen, maar in een lokale variabele van jouw method. Deze lokale variabele verdwijnt dan vervolgens eens de functie is afgelopen. Dit gebeurt in volgend stukje code:"
   ]
  },
  {
   "cell_type": "code",
   "execution_count": 37,
   "metadata": {},
   "outputs": [
    {
     "ename": "AttributeError",
     "evalue": "'vb' object has no attribute 'y'",
     "output_type": "error",
     "traceback": [
      "\u001b[1;31m---------------------------------------------------------------------------\u001b[0m",
      "\u001b[1;31mAttributeError\u001b[0m                            Traceback (most recent call last)",
      "\u001b[1;32m<ipython-input-37-ad328834f170>\u001b[0m in \u001b[0;36m<module>\u001b[1;34m\u001b[0m\n\u001b[0;32m     10\u001b[0m \u001b[0mv1\u001b[0m\u001b[1;33m=\u001b[0m\u001b[0mvb\u001b[0m\u001b[1;33m(\u001b[0m\u001b[1;33m)\u001b[0m\u001b[1;33m\u001b[0m\u001b[1;33m\u001b[0m\u001b[0m\n\u001b[0;32m     11\u001b[0m \u001b[0mv1\u001b[0m\u001b[1;33m.\u001b[0m\u001b[0maddData\u001b[0m\u001b[1;33m(\u001b[0m\u001b[1;36m1\u001b[0m\u001b[1;33m,\u001b[0m\u001b[1;36m2\u001b[0m\u001b[1;33m)\u001b[0m\u001b[1;33m\u001b[0m\u001b[1;33m\u001b[0m\u001b[0m\n\u001b[1;32m---> 12\u001b[1;33m \u001b[0mv1\u001b[0m\u001b[1;33m.\u001b[0m\u001b[0mprintData\u001b[0m\u001b[1;33m(\u001b[0m\u001b[1;33m)\u001b[0m\u001b[1;33m\u001b[0m\u001b[1;33m\u001b[0m\u001b[0m\n\u001b[0m",
      "\u001b[1;32m<ipython-input-37-ad328834f170>\u001b[0m in \u001b[0;36mprintData\u001b[1;34m(self)\u001b[0m\n\u001b[0;32m      5\u001b[0m \u001b[1;33m\u001b[0m\u001b[0m\n\u001b[0;32m      6\u001b[0m     \u001b[1;32mdef\u001b[0m \u001b[0mprintData\u001b[0m\u001b[1;33m(\u001b[0m\u001b[0mself\u001b[0m\u001b[1;33m)\u001b[0m\u001b[1;33m:\u001b[0m\u001b[1;33m\u001b[0m\u001b[1;33m\u001b[0m\u001b[0m\n\u001b[1;32m----> 7\u001b[1;33m         \u001b[0mprint\u001b[0m\u001b[1;33m(\u001b[0m\u001b[0mself\u001b[0m\u001b[1;33m.\u001b[0m\u001b[0mx\u001b[0m\u001b[1;33m,\u001b[0m\u001b[0mself\u001b[0m\u001b[1;33m.\u001b[0m\u001b[0my\u001b[0m\u001b[1;33m)\u001b[0m\u001b[1;33m\u001b[0m\u001b[1;33m\u001b[0m\u001b[0m\n\u001b[0m\u001b[0;32m      8\u001b[0m \u001b[1;33m\u001b[0m\u001b[0m\n\u001b[0;32m      9\u001b[0m \u001b[1;33m\u001b[0m\u001b[0m\n",
      "\u001b[1;31mAttributeError\u001b[0m: 'vb' object has no attribute 'y'"
     ]
    }
   ],
   "source": [
    "class vb:\n",
    "    def addData(self,x1,y1):\n",
    "        self.x=x1  \n",
    "        y=y1    # We zijn de self. vergeten voor y; y is dus een lokale variabele\n",
    "    \n",
    "    def printData(self):\n",
    "        print(self.x,self.y)\n",
    "        \n",
    "        \n",
    "v1=vb()\n",
    "v1.addData(1,2)\n",
    "v1.printData()"
   ]
  },
  {
   "cell_type": "markdown",
   "metadata": {},
   "source": [
    "### Initialiser\n",
    "\n",
    "Merk op dat we de data van de objecten van klasse `vb` expliciet moeten toevoegen via een aanroep van de method `addData`. Als we dat vergeten dan kunnen we een andere method, `printData`, niet correct gebruiken omdat die veronderstelt dat data variabelen `x` en `y` aan ons object gekoppeld zijn. Eigenlijk willen we in dit geval dat de functie `addData` altijd een keer wordt uitgevoerd voordat we het object voor de eerste keer gebruiken. Dit is exact de functie van een *initialiser* is een klasse. Een initializer heeft steeds de naam `__init__` (twee *underscores* gevolgd door init gevolgd door opnieuw twee underscores) en heeft als parameters steeds de obligate `self` en vervolgens alle bijkomende parameters die jij nodig acht.\n",
    "\n",
    "Voor onze klasse `vb` zouden we bijvoorbeeld kunnen zeggen dat steeds wanneer een object van deze klasse wordt aangemaakt, er beginwaarden voor `x` en `y` gegeven moeten worden. Dat ziet er dan als volgt uit:"
   ]
  },
  {
   "cell_type": "code",
   "execution_count": 38,
   "metadata": {},
   "outputs": [
    {
     "name": "stdout",
     "output_type": "stream",
     "text": [
      "1 2\n"
     ]
    }
   ],
   "source": [
    "class vb:\n",
    "    def __init__(self,x,y):\n",
    "        self.x=x\n",
    "        self.y=y\n",
    "    \n",
    "    def addData(self,x1,y1):\n",
    "        self.x=x1  \n",
    "        y=y1    # We zijn de self. vergeten voor y; y is dus een lokale variabele\n",
    "    \n",
    "    def printData(self):\n",
    "        print(self.x,self.y)\n",
    "        \n",
    "        \n",
    "v1=vb(1,2)    # omdat de initializer twee parameters heeft, zijn we nu \n",
    "              # verplicht om 2 argumenten mee te geven bij creatie van een object\n",
    "v1.printData()"
   ]
  },
  {
   "cell_type": "markdown",
   "metadata": {},
   "source": [
    "Python zal standaard een lege initializer maken als wij er zelf geen voorzien. Dit verklaart waarom we lege haken hadden in onze eerste voorbeelden. Dit komt eigenlijk neer op volgende code:"
   ]
  },
  {
   "cell_type": "code",
   "execution_count": 39,
   "metadata": {},
   "outputs": [],
   "source": [
    "class vb:\n",
    "    def __init__(self):\n",
    "        pass\n",
    "    \n",
    "    def addData(self,x1,y1):\n",
    "        self.x=x1  \n",
    "        self.y=y1\n",
    "    \n",
    "    def printData(self):\n",
    "        print(self.x,self.y)\n",
    "        \n",
    "        \n",
    "v1=vb()\n",
    "#v1.printData()  # deze laten we nu weg want die geeft een fout omdat v1.x en v1.y niet bestaan"
   ]
  },
  {
   "cell_type": "markdown",
   "metadata": {},
   "source": [
    "Een initialiser is enorm handig om te vermijden dat de inhoud van objecten geen correcte toestand weergeven. Een incorrecte toestand is bijvoorbeeld een ontbrekende variabele. \n",
    "\n",
    "### Methods die andere methods aanroepen\n",
    "\n",
    "Een method kan ook een andere method aanroepen door gebruik te maken van `self.methodenaam(argumenten)`. Merk op dat we hier niet zelf een argument moeten geven voor de `self` parameter omdat we gebruik maken van de dot notatie bij de aanroep (`self` dot `methodenaam`). We kunnen bijvoorbeeld de initialiser in het vorige voorbeeld `addData` laten aanroepen in plaats van zelf de variabelen `self.x` en `self.y` toe te wijzen."
   ]
  },
  {
   "cell_type": "code",
   "execution_count": 40,
   "metadata": {},
   "outputs": [
    {
     "name": "stdout",
     "output_type": "stream",
     "text": [
      "0 0\n"
     ]
    }
   ],
   "source": [
    "class vb:\n",
    "    def __init__(self):\n",
    "        self.addData(0,0)  # vanuit een method een andere method aanroepen\n",
    "    \n",
    "    def addData(self,x1,y1):\n",
    "        self.x=x1  \n",
    "        self.y=y1\n",
    "    \n",
    "    def printData(self):\n",
    "        print(self.x,self.y)\n",
    "        \n",
    "        \n",
    "v1=vb()\n",
    "v1.printData()  "
   ]
  },
  {
   "cell_type": "markdown",
   "metadata": {},
   "source": [
    "## Voorbeeld: student\n",
    "\n",
    "Met wat we net zagen kunnen we het voorbeeld van de klasse student volledig begrijpen. We herhalen het voorbeeld hier even ter referentie:"
   ]
  },
  {
   "cell_type": "code",
   "execution_count": 69,
   "metadata": {},
   "outputs": [
    {
     "name": "stdout",
     "output_type": "stream",
     "text": [
      "Punten van J. Vermeulen (20201234)\n",
      "Inleiding programmeren \t 11\n",
      "Gegevensabstractie en datastructuren \t 13\n"
     ]
    }
   ],
   "source": [
    "def getVakNaam(vak):\n",
    "    return vak[0]\n",
    "\n",
    "def getVakPunt(vak):\n",
    "    return vak[1]\n",
    "\n",
    "def getVakExamenDatum(vak):\n",
    "    return vak[-1]\n",
    "\n",
    "\n",
    "class student:\n",
    "    def nieuweStudent(self,ID,vnaam,anaam,straat,gemeente,vakken):\n",
    "        self.ID=ID\n",
    "        self.vnaam=vnaam\n",
    "        self.anaam=anaam\n",
    "        self.straat=straat\n",
    "        self.gemeente=gemeente\n",
    "        self.vakken=vakken\n",
    "\n",
    "    def getID(self):\n",
    "        return self.ID\n",
    "\n",
    "    def getVNaam(self):\n",
    "        return self.vnaam\n",
    "\n",
    "    def getANaam(self):\n",
    "        return self.anaam\n",
    "\n",
    "    def getVakken(self):\n",
    "        return self.vakken\n",
    "\n",
    "    def printPuntenLijst(self):\n",
    "        print(\"Punten van \"+self.getVNaam()[0]+\". \"+self.getANaam()+\" (\"+str(self.getID())+\")\")\n",
    "        for vak in self.getVakken():\n",
    "            print(getVakNaam(vak),\"\\t\",getVakPunt(vak))\n",
    "\n",
    "\n",
    "            \n",
    "student1=student()\n",
    "student1.nieuweStudent(20201234,\"Joske\",\"Vermeulen\",\"Tramezantlei 122\", \"Schoten\",\n",
    "          [(\"Inleiding programmeren\",11,(18,1,2020)),(\"Gegevensabstractie en datastructuren\",13,(10,1,2020))])\n",
    "student2=student()\n",
    "student2.nieuweStudent(20201235,\"Sander\",\"Slisse\",\"Autolei 14\", \"Mortsel\",\n",
    "          [(\"Inleiding programmeren\",15,(10,1,2020)),(\"Computer Systemen en Architectuur\",13,(25,1,2020))])\n",
    "\n",
    "student1.printPuntenLijst()"
   ]
  },
  {
   "cell_type": "markdown",
   "metadata": {},
   "source": [
    "Merk op dat we de klasse student nu kunnen gebruiken als een type. Dit is niet enkel alsof; een klasse definieert een nieuw type dat we kunnen gebruiken net als elk ander type. Zo kunnen we bijvoorbeeld studentenlijsten maken:"
   ]
  },
  {
   "cell_type": "code",
   "execution_count": 70,
   "metadata": {},
   "outputs": [],
   "source": [
    "BA1=[student1,student2]  # een klein jaar blijkbaar ..."
   ]
  },
  {
   "cell_type": "markdown",
   "metadata": {},
   "source": [
    "We zouden ook verder kunnen gaan en van vak ook een klasse maken, en in plaats van de naam van een vak op te slaan, het vak bij de student op te slaan. Verder hebben we de initialiser aangepast; om student correct te kunnen gebruiken hoeft er niet per se een vak te zijn dus laten we dit uit de initialiser weg en voegen we in de plaats daarvan methods toe om vakken en punten toe te voegen."
   ]
  },
  {
   "cell_type": "code",
   "execution_count": 71,
   "metadata": {},
   "outputs": [
    {
     "name": "stdout",
     "output_type": "stream",
     "text": [
      "Punten van J. Vermeulen (20201234)\n",
      "Inleiding Programmeren \t 11\n",
      "Gegevensabstractie en datastructuren \t 13\n"
     ]
    }
   ],
   "source": [
    "class vak:\n",
    "    def __init__(self,code,naam):\n",
    "        self.code=code\n",
    "        self.naam=naam\n",
    "\n",
    "    def getCode(self):\n",
    "        return self.code\n",
    "        \n",
    "    def getVakNaam(self):\n",
    "        return self.naam\n",
    "\n",
    "\n",
    "class student:\n",
    "    def __init__(self,ID,vnaam,anaam,straat,gemeente):\n",
    "        self.ID=ID\n",
    "        self.vnaam=vnaam\n",
    "        self.anaam=anaam\n",
    "        self.straat=straat\n",
    "        self.gemeente=gemeente\n",
    "        self.vakken=[]\n",
    "        self.punten={}  # lege dictionary die vakcodes koppelt aan punten\n",
    "\n",
    "    def getID(self):\n",
    "        return self.ID\n",
    "\n",
    "    def getVNaam(self):\n",
    "        return self.vnaam\n",
    "\n",
    "    def getANaam(self):\n",
    "        return self.anaam\n",
    "\n",
    "    def getVakken(self):\n",
    "        return self.vakken\n",
    "\n",
    "    def addVak(self,vak):\n",
    "        self.vakken.append(vak)\n",
    "    \n",
    "    def addGrade(self,v,g):\n",
    "        self.punten[v.getCode()]=g\n",
    "    \n",
    "    def getGrade(self,v):\n",
    "        return self.punten.get(v.getCode(),\"-\")\n",
    "    \n",
    "    def printPuntenLijst(self):\n",
    "        print(\"Punten van \"+self.getVNaam()[0]+\". \"+self.getANaam()+\" (\"+str(self.getID())+\")\")\n",
    "        for v in self.getVakken():\n",
    "            print(v.getVakNaam(),\"\\t\",self.getGrade(v))\n",
    "\n",
    "IP=vak(\"IP\",\"Inleiding Programmeren\")\n",
    "GAS=vak(\"GAS\",\"Gegevensabstractie en datastructuren\")\n",
    "CSA=vak(\"CSA\",\"Computer Systemen en Architectuur\")\n",
    "\n",
    "student1=student(20201234,\"Joske\",\"Vermeulen\",\"Tramezantlei 122\", \"Schoten\")\n",
    "student1.addVak(IP)\n",
    "student1.addVak(GAS)\n",
    "student1.addGrade(IP,11)\n",
    "student1.addGrade(GAS,13)\n",
    "\n",
    "student2=student(20201235,\"Sander\",\"Slisse\",\"Autolei 14\", \"Mortsel\")\n",
    "student2.addVak(IP)\n",
    "student2.addVak(CSA)\n",
    "student2.addGrade(IP,15)\n",
    "student2.addGrade(CSA,13)\n",
    "\n",
    "student1.printPuntenLijst()"
   ]
  },
  {
   "cell_type": "markdown",
   "metadata": {},
   "source": [
    "Je vraagt je nu misschien af wat het grote nut was om in dit voorbeeld klassen te gebruiken. Het programmeren met klassen, ook wel *object-georiënteerd programmeren* genoemd, is essentieel om projecten met grotere complexiteit beheersbaar te houden. Zonder nu reeds al te veel in te gaan op de inhoud van de verschillende Software-engineering vakken die jullie verder in de opleiding nog gaan krijgen, sommen we hier enkele voordelen op:\n",
    "- de opbouw van jouw programma wordt logischer, met functies die de data van een object beheren dicht bij de definitie van het object. Je maakt een eigen type aan, met methods om objecten van dit type te beheren.\n",
    "- een andere programmeur, of jijzelf, kan de objecten van de klasse gebruiken zonder te hoeven weten hoe deze objecten er intern uit zien en aan welke voorwaarden ze moeten voldoen. Bijvoorbeeld: zonder te weten wat de method `append` van de klasse `list` intern exact doet, kan je ze toch gebruiken. Achteraf kan je aan de elementen die je in de lijst zette ook aan, via de operator `[index]`, die eigenlijk niet meer is dan een method met een ietwat bijzondere naam en manier van argumenten doorgeven.\n",
    "- zolang je de *interface* (verzameling van methods om de inhoud van een object te beheren) niet van vorm wijzigt, kan je de hele interne structuur van een object wijzigen, zoals bijvoorbeeld functionaliteit toevoegen, zonder dat je ergens anders in jouw programma ook maar een letter code moet wijzigen.\n",
    "\n",
    "Dit laaste punt illusteren we even. Stel dat we aan een vak ook een docent willen toevoegen, dan kunnen we de definitie van vak wijzigen. De rest van onze code hoeft echter niet te wijzigen omdat we de bestaande interface volledig behouden. We breiden hem enkel uit: "
   ]
  },
  {
   "cell_type": "code",
   "execution_count": 72,
   "metadata": {},
   "outputs": [
    {
     "name": "stdout",
     "output_type": "stream",
     "text": [
      "Punten van J. Vermeulen (20201234)\n",
      "Inleiding Programmeren \t 11\n",
      "Gegevensabstractie en datastructuren \t 13\n"
     ]
    }
   ],
   "source": [
    "class vak:\n",
    "    def __init__(self,code,naam):\n",
    "        self.code=code\n",
    "        self.naam=naam\n",
    "        self.docent=\"\"\n",
    "\n",
    "    def getCode(self):\n",
    "        return self.code\n",
    "        \n",
    "    def getVakNaam(self):\n",
    "        return self.naam\n",
    "    \n",
    "    def addDocent(self,d):\n",
    "        self.docent=d\n",
    "        \n",
    "    def getDocent(self):\n",
    "        return self.docent\n",
    "    \n",
    "    \n",
    "######  Onder deze regel wijzigde niets  #################\n",
    "\n",
    "class student:\n",
    "    def __init__(self,ID,vnaam,anaam,straat,gemeente):\n",
    "        self.ID=ID\n",
    "        self.vnaam=vnaam\n",
    "        self.anaam=anaam\n",
    "        self.straat=straat\n",
    "        self.gemeente=gemeente\n",
    "        self.vakken=[]\n",
    "        self.punten={}  # lege dictionary die vakcodes koppelt aan punten\n",
    "\n",
    "    def getID(self):\n",
    "        return self.ID\n",
    "\n",
    "    def getVNaam(self):\n",
    "        return self.vnaam\n",
    "\n",
    "    def getANaam(self):\n",
    "        return self.anaam\n",
    "\n",
    "    def getVakken(self):\n",
    "        return self.vakken\n",
    "\n",
    "    def addVak(self,vak):\n",
    "        self.vakken.append(vak)\n",
    "    \n",
    "    def addGrade(self,v,g):\n",
    "        self.punten[v.getCode()]=g\n",
    "    \n",
    "    def getGrade(self,v):\n",
    "        return self.punten.get(v.getCode(),\"-\")\n",
    "    \n",
    "    def printPuntenLijst(self):\n",
    "        print(\"Punten van \"+self.getVNaam()[0]+\". \"+self.getANaam()+\" (\"+str(self.getID())+\")\")\n",
    "        for v in self.getVakken():\n",
    "            print(v.getVakNaam(),\"\\t\",self.getGrade(v))\n",
    "\n",
    "IP=vak(\"IP\",\"Inleiding Programmeren\")\n",
    "GAS=vak(\"GAS\",\"Gegevensabstractie en datastructuren\")\n",
    "CSA=vak(\"CSA\",\"Computer Systemen en Architectuur\")\n",
    "\n",
    "student1=student(20201234,\"Joske\",\"Vermeulen\",\"Tramezantlei 122\", \"Schoten\")\n",
    "student1.addVak(IP)\n",
    "student1.addVak(GAS)\n",
    "student1.addGrade(IP,11)\n",
    "student1.addGrade(GAS,13)\n",
    "\n",
    "student2=student(20201235,\"Sander\",\"Slisse\",\"Autolei 14\", \"Mortsel\")\n",
    "student2.addVak(IP)\n",
    "student2.addVak(CSA)\n",
    "student2.addGrade(IP,15)\n",
    "student2.addGrade(CSA,13)\n",
    "\n",
    "student1.printPuntenLijst()"
   ]
  },
  {
   "cell_type": "markdown",
   "metadata": {},
   "source": [
    "## Objecten zijn *mutable*\n",
    "\n",
    "Objecten van klassen zijn mutable; toen we aan `student1` een vak en een punt toevoegden, bleef dit hetzelfde object, maar de inhoud was gewijzigd:"
   ]
  },
  {
   "cell_type": "code",
   "execution_count": 73,
   "metadata": {},
   "outputs": [
    {
     "name": "stdout",
     "output_type": "stream",
     "text": [
      "2418581742880\n",
      "2418581742880\n"
     ]
    }
   ],
   "source": [
    "student3=student(20201236,\"Gaston\",\"Berghmans\",\"Autolei 34\", \"Mortsel\")\n",
    "print(id(student3))\n",
    "student3.addVak(IP)\n",
    "print(id(student3))"
   ]
  },
  {
   "cell_type": "markdown",
   "metadata": {},
   "source": [
    "Dit betekent ook dat indien meerdere variabelen naar hetzelfde object verwijzen en dit object verandert, dat deze gewijzigde waarde ook via de andere variabelen wordt gezien. Een minimaal voorbeeldje om dit te illustreren:"
   ]
  },
  {
   "cell_type": "code",
   "execution_count": 74,
   "metadata": {},
   "outputs": [
    {
     "name": "stdout",
     "output_type": "stream",
     "text": [
      "Punten van J. Vermeulen (20201234)\n",
      "Inleiding Programmeren \t 11\n",
      "Gegevensabstractie en datastructuren \t 13\n",
      "Punten van J. Vermeulen (20201234)\n",
      "Inleiding Programmeren \t 11\n",
      "Gegevensabstractie en datastructuren \t 13\n",
      "Computer Systemen en Architectuur \t -\n"
     ]
    }
   ],
   "source": [
    "student1.printPuntenLijst()\n",
    "student4=student1\n",
    "student4.addVak(CSA)\n",
    "student1.printPuntenLijst()"
   ]
  },
  {
   "cell_type": "markdown",
   "metadata": {},
   "source": [
    "`Student1` en `student4` verwijzen naar hetzelfde object en daarom is elke wijzeging aan `student1` ook een wijziging aan `student4` en omgekeerd:"
   ]
  },
  {
   "cell_type": "code",
   "execution_count": 75,
   "metadata": {},
   "outputs": [
    {
     "name": "stdout",
     "output_type": "stream",
     "text": [
      "2418582009216 2418582009216\n"
     ]
    }
   ],
   "source": [
    "print(id(student1),id(student4))"
   ]
  },
  {
   "cell_type": "markdown",
   "metadata": {},
   "source": [
    "Dit is niet altijd slecht! In veel gevallen is dit zelfs uitermate wenselijk! Stel bijvoorbeeld dat we een foutje maakten in de naam van het vak `IP`. Dit vak zit in de vakkenlijst van alle drie onze studenten (we vergeten even `student4`, want dat is eigenlijk `student1`). Moeten we nu de naam van dit vak bij alle drie de studenten gaan wijzigen? Het antwoord is: neen! Omdat we het vak niet als een string opsloegen in de studentobjecten, maar als object, verwijst in de vakkenlijsten van onze studenten de entry voor `IP` naar het object voor dit vak. Ook de variabele `IP` verwijst hiernaar, dus moeten we dit maar op 1 plaats wijzigen:"
   ]
  },
  {
   "cell_type": "code",
   "execution_count": 76,
   "metadata": {},
   "outputs": [
    {
     "name": "stdout",
     "output_type": "stream",
     "text": [
      "Punten van J. Vermeulen (20201234)\n",
      "Inleiding tot programmeren \t 11\n",
      "Gegevensabstractie en datastructuren \t 13\n",
      "Computer Systemen en Architectuur \t -\n",
      "\n",
      "Punten van S. Slisse (20201235)\n",
      "Inleiding tot programmeren \t 15\n",
      "Computer Systemen en Architectuur \t 13\n",
      "\n",
      "Punten van G. Berghmans (20201236)\n",
      "Inleiding tot programmeren \t -\n",
      "\n"
     ]
    }
   ],
   "source": [
    "IP.naam=\"Inleiding tot programmeren\"\n",
    "student1.printPuntenLijst()\n",
    "print()\n",
    "student2.printPuntenLijst()\n",
    "print()\n",
    "student3.printPuntenLijst()\n",
    "print()"
   ]
  },
  {
   "cell_type": "markdown",
   "metadata": {},
   "source": [
    "## Copy en deepcopy\n",
    "\n",
    "Willen we nu een kopij maken van een object, dan kunnen we dat doen met de functies `copy` en `deepcopy` uit de module `copy`. Met `copy` maken we een ondiepe kopij, wat wil zeggen dat we wel een nieuw object maken, maar binnen dat object geen kopijen maken van de waarden. Met `deepcopy` doen we dat wel. Volgend voorbeeld illustreert dit:"
   ]
  },
  {
   "cell_type": "code",
   "execution_count": 77,
   "metadata": {},
   "outputs": [
    {
     "name": "stdout",
     "output_type": "stream",
     "text": [
      "id(t):\t\t 2418582129152 \n",
      "id(t2):\t\t 2418582129152 \n",
      "id(tcopy):\t 2418582129296 \n",
      "id(tdeepcopy):\t 2418582129728\n",
      "id(t.lijst):\t\t 2418582091840 \n",
      "id(t2.lijst):\t\t 2418582091840 \n",
      "id(tcopy.lijst):\t 2418582091840 \n",
      "id(tdeepcopy.lijst):\t 2418582090560\n",
      "[1] [1] [1] []\n",
      "[1, 2] [1, 2] [1, 2] []\n",
      "[1, 2, 3] [1, 2, 3] [1, 2, 3] []\n",
      "[1, 2, 3] [1, 2, 3] [1, 2, 3] [4]\n",
      "[] [] [1, 2, 3] [4]\n",
      "[1] [1] [1, 2, 3] [4]\n",
      "[1, 2] [1, 2] [1, 2, 3] [4]\n",
      "[1, 2] [1, 2] [1, 2, 3, 3] [4]\n",
      "[1, 2] [1, 2] [1, 2, 3, 3] [4, 4]\n"
     ]
    }
   ],
   "source": [
    "from copy import copy,deepcopy\n",
    "\n",
    "class test:\n",
    "    def __init__(self):\n",
    "        self.lijst=[]\n",
    "        \n",
    "    def empty(self):\n",
    "        self.lijst=[]\n",
    "        \n",
    "    def add(self,a):\n",
    "        self.lijst.append(a)\n",
    "        \n",
    "    def slijst(self):\n",
    "        s=\"\"\n",
    "        for i in self.lijst:\n",
    "            s=s+str(i)+\", \"\n",
    "        return \"[\"+s[:-2]+\"]\"\n",
    "    \n",
    "t=test()\n",
    "t2=t\n",
    "tcopy=copy(t)\n",
    "tdeepcopy=deepcopy(t)\n",
    "print(\"id(t):\\t\\t\",id(t),\"\\nid(t2):\\t\\t\",id(t2),\"\\nid(tcopy):\\t\",id(tcopy),\"\\nid(tdeepcopy):\\t\",id(tdeepcopy))\n",
    "print(\"id(t.lijst):\\t\\t\",id(t.lijst),\"\\nid(t2.lijst):\\t\\t\",id(t2.lijst),\"\\nid(tcopy.lijst):\\t\",id(tcopy.lijst),\"\\nid(tdeepcopy.lijst):\\t\",id(tdeepcopy.lijst))\n",
    "\n",
    "t.add(1)\n",
    "print(t.slijst(),t2.slijst(),tcopy.slijst(),tdeepcopy.slijst())\n",
    "t2.add(2)\n",
    "print(t.slijst(),t2.slijst(),tcopy.slijst(),tdeepcopy.slijst())\n",
    "tcopy.add(3)\n",
    "print(t.slijst(),t2.slijst(),tcopy.slijst(),tdeepcopy.slijst())\n",
    "tdeepcopy.add(4)\n",
    "print(t.slijst(),t2.slijst(),tcopy.slijst(),tdeepcopy.slijst())\n",
    "\n",
    "t.empty()\n",
    "print(t.slijst(),t2.slijst(),tcopy.slijst(),tdeepcopy.slijst())\n",
    "t.add(1)\n",
    "print(t.slijst(),t2.slijst(),tcopy.slijst(),tdeepcopy.slijst())\n",
    "t2.add(2)\n",
    "print(t.slijst(),t2.slijst(),tcopy.slijst(),tdeepcopy.slijst())\n",
    "tcopy.add(3)\n",
    "print(t.slijst(),t2.slijst(),tcopy.slijst(),tdeepcopy.slijst())\n",
    "tdeepcopy.add(4)\n",
    "print(t.slijst(),t2.slijst(),tcopy.slijst(),tdeepcopy.slijst())"
   ]
  },
  {
   "cell_type": "markdown",
   "metadata": {},
   "source": [
    "Bekijk deze code goed. Inspecteer zeker ook [het Python tutor fragment van deze code](http://www.pythontutor.com/visualize.html#code=from%20copy%20import%20copy,deepcopy%0A%0Aclass%20test%3A%0A%20%20%20%20def%20__init__%28self%29%3A%0A%20%20%20%20%20%20%20%20self.lijst%3D%5B%5D%0A%20%20%20%20%20%20%20%20%0A%20%20%20%20def%20empty%28self%29%3A%0A%20%20%20%20%20%20%20%20self.lijst%3D%5B%5D%0A%20%20%20%20%20%20%20%20%0A%20%20%20%20def%20add%28self,a%29%3A%0A%20%20%20%20%20%20%20%20self.lijst.append%28a%29%0A%20%20%20%20%20%20%20%20%0A%20%20%20%20def%20slijst%28self%29%3A%0A%20%20%20%20%20%20%20%20s%3D%22%22%0A%20%20%20%20%20%20%20%20for%20i%20in%20self.lijst%3A%0A%20%20%20%20%20%20%20%20%20%20%20%20s%3Ds%2Bstr%28i%29%2B%22,%20%22%0A%20%20%20%20%20%20%20%20return%20%22%5B%22%2Bs%5B%3A-2%5D%2B%22%5D%22%0A%20%20%20%20%0At%3Dtest%28%29%0At2%3Dt%0Atcopy%3Dcopy%28t%29%0Atdeepcopy%3Ddeepcopy%28t%29%0Aprint%28%22id%28t%29%3A%5Ct%5Ct%22,id%28t%29,%22%5Cnid%28t2%29%3A%5Ct%5Ct%22,id%28t2%29,%22%5Cnid%28tcopy%29%3A%5Ct%22,id%28tcopy%29,%22%5Cnid%28tdeepcopy%29%3A%5Ct%22,id%28tdeepcopy%29%29%0Aprint%28%22id%28t.lijst%29%3A%5Ct%5Ct%22,id%28t.lijst%29,%22%5Cnid%28t2.lijst%29%3A%5Ct%5Ct%22,id%28t2.lijst%29,%22%5Cnid%28tcopy.lijst%29%3A%5Ct%22,id%28tcopy.lijst%29,%22%5Cnid%28tdeepcopy.lijst%29%3A%5Ct%22,id%28tdeepcopy.lijst%29%29%0A%0At.add%281%29%0Aprint%28t.slijst%28%29,t2.slijst%28%29,tcopy.slijst%28%29,tdeepcopy.slijst%28%29%29%0At2.add%282%29%0Aprint%28t.slijst%28%29,t2.slijst%28%29,tcopy.slijst%28%29,tdeepcopy.slijst%28%29%29%0Atcopy.add%283%29%0Aprint%28t.slijst%28%29,t2.slijst%28%29,tcopy.slijst%28%29,tdeepcopy.slijst%28%29%29%0Atdeepcopy.add%284%29%0Aprint%28t.slijst%28%29,t2.slijst%28%29,tcopy.slijst%28%29,tdeepcopy.slijst%28%29%29%0A%0At.empty%28%29%0Aprint%28t.slijst%28%29,t2.slijst%28%29,tcopy.slijst%28%29,tdeepcopy.slijst%28%29%29%0At.add%281%29%0Aprint%28t.slijst%28%29,t2.slijst%28%29,tcopy.slijst%28%29,tdeepcopy.slijst%28%29%29%0At2.add%282%29%0Aprint%28t.slijst%28%29,t2.slijst%28%29,tcopy.slijst%28%29,tdeepcopy.slijst%28%29%29%0Atcopy.add%283%29%0Aprint%28t.slijst%28%29,t2.slijst%28%29,tcopy.slijst%28%29,tdeepcopy.slijst%28%29%29%0Atdeepcopy.add%284%29%0Aprint%28t.slijst%28%29,t2.slijst%28%29,tcopy.slijst%28%29,tdeepcopy.slijst%28%29%29&cumulative=false&curInstr=9&heapPrimitives=false&mode=display&origin=opt-frontend.js&py=3&rawInputLstJSON=%5B%5D&textReferences=false).\n",
    "Als je dit voorbeeld goed begrijpt, ben je helemaal mee met copy, deepcopy en mutable. We lichten enkele essentiële lijnen code toe: \n",
    "- met `t2=t` laten we variabele `t2` naar hetzelfde `test` object verwijzen als `t`. Alles wat met `t` gebeurt, gebeurt dus ook met `t2` en vice versa. \n",
    "- `tcopy` is een ondiepe kopij van `t` (en dus ook van `t2`); het is een nieuw object, maar `tcopy.lijst` verwijst naar hetzelfde lijstobject als `t` en `t2`. Alles wat er dus met `tcopy.lijst` gebeurt, gebeurt ook met `t.lijst` en `t2.lijst`. - Voor `tdeepcopy` geldt dit niet; `tdeepcopy` staat volledig los van de andere drie `test` objecten en deelt zelfs de lijst niet.\n",
    "- Wanneer we `t.empty()` uitvoeren, wordt `t.lijst=[]` uitgevoerd. Dat wil zeggen: vanaf dat punt verwijst `t.lijst` niet langer naar de lijst waarnaar die verwees, maar naar een nieuwe, lege lijst. Omdat `t2` gewoon een andere naam is voor `t`, is dit ook het geval voor `t2`. `t.lijst` en `t2.lijst` wijzen vanaf nu naar dezelfde, nieuwe lege lijst.\n",
    "- Voor `tcopy` is dit niet het geval. `tcopy` is een ander object dan `t`, heeeft haar eigen variabele `lijst`, die nog steeds naar de originele lijst met elementen `[1, 2, 3, 4]` wijst."
   ]
  },
  {
   "cell_type": "markdown",
   "metadata": {},
   "source": [
    "In de meeste gevallen, echter, kunnen we niet zomaar `copy` of `deepcopy` gebruiken maar zullen we een eigen functie moeten schrijven die een object op een correcte manier kopieert. Denken we bijvoorbeeld aan onze klasse student; als we een kopij maken van student, dan willen we dat elke student zijn of haar eigen lijst met vakken heeft, maar de vakken in die lijst moeten verwijzingen zijn naar het vakobject en geen kopij. In dit geval werkt dus helaas noch het gebruik van `copy`, noch het gebruik van `deepcopy`."
   ]
  },
  {
   "cell_type": "code",
   "execution_count": null,
   "metadata": {},
   "outputs": [],
   "source": []
  }
 ],
 "metadata": {
  "kernelspec": {
   "display_name": "Python 3",
   "language": "python",
   "name": "python3"
  },
  "language_info": {
   "codemirror_mode": {
    "name": "ipython",
    "version": 3
   },
   "file_extension": ".py",
   "mimetype": "text/x-python",
   "name": "python",
   "nbconvert_exporter": "python",
   "pygments_lexer": "ipython3",
   "version": "3.8.3"
  }
 },
 "nbformat": 4,
 "nbformat_minor": 4
}
